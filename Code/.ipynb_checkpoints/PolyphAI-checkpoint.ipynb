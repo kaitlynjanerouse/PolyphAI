{
 "cells": [
  {
   "cell_type": "code",
   "execution_count": 31,
   "id": "7d361ffe",
   "metadata": {},
   "outputs": [],
   "source": [
    "# Include necessary imports\n",
    "import os\n",
    "import torch \n",
    "import pandas as pd\n",
    "from torch.utils.data import DataLoader\n",
    "from music21 import *\n",
    "import numpy as np\n",
    "from sklearn.model_selection import GridSearchCV\n",
    "from sklearn.preprocessing import MinMaxScaler\n",
    "\n"
   ]
  },
  {
   "cell_type": "code",
   "execution_count": 15,
   "id": "3c67e7cc",
   "metadata": {},
   "outputs": [],
   "source": [
    "# Preprocess the data\n",
    "\n",
    "folder_path = 'Data/'\n",
    "test = []\n",
    "train = []\n",
    "validation = []\n",
    "for dirname in os.listdir(folder_path):\n",
    "    if dirname != '.DS_Store':\n",
    "        for filename in os.listdir(folder_path + dirname):\n",
    "            df = pd.read_csv(folder_path + dirname + '/' + filename)\n",
    "            transposed_df = df.transpose()\n",
    "            if dirname == 'test':\n",
    "                test.append(transposed_df)\n",
    "            if dirname == 'train':\n",
    "                train.append(transposed_df)\n",
    "            if dirname == 'valid':\n",
    "                validation.append(transposed_df)"
   ]
  },
  {
   "cell_type": "markdown",
   "id": "d8606521",
   "metadata": {},
   "source": [
    "# Model"
   ]
  },
  {
   "cell_type": "code",
   "execution_count": 16,
   "id": "551e0b42",
   "metadata": {},
   "outputs": [],
   "source": [
    "class Model(torch.nn.Module):\n",
    "    def __init__(self, input_size, output_size, hidden_dim=50, n_layers=2):\n",
    "        super(Model, self).__init__()\n",
    "        self.hidden_dim = hidden_dim\n",
    "        self.n_layers = n_layers\n",
    "        self.lstm = torch.nn.LSTM(input_size, hidden_dim, n_layers, batch_first=True)\n",
    "        self.fc = torch.nn.Linear(hidden_dim, output_size)\n",
    "        \n",
    "    def forward(self, x, hidden=None):\n",
    "        lstm_output, (h,c) = self.lstm(x, hidden)\n",
    "        model_output = self.fc(lstm_output)\n",
    "        return model_output\n"
   ]
  },
  {
   "cell_type": "markdown",
   "id": "2d09e503",
   "metadata": {},
   "source": [
    "# Train"
   ]
  },
  {
   "cell_type": "code",
   "execution_count": 20,
   "id": "511051f8",
   "metadata": {},
   "outputs": [],
   "source": [
    "def train_model(model, melody, harmonies, optimizer, criterion, num_epochs):\n",
    "    for epoch in range(num_epochs):\n",
    "        optimizer.zero_grad()\n",
    "        output = model(melody)\n",
    "        loss = criterion(output, harmonies)\n",
    "        loss.backward()\n",
    "        optimizer.step()\n",
    "        if (epoch + 1) % 100 == 0:\n",
    "            print(\"Epoch: \", epoch, \"Loss: \", loss)"
   ]
  },
  {
   "cell_type": "code",
   "execution_count": null,
   "id": "6c6e6252",
   "metadata": {},
   "outputs": [
    {
     "name": "stdout",
     "output_type": "stream",
     "text": [
      "Epoch:  99 Loss:  tensor(0.0573, grad_fn=<MseLossBackward0>)\n",
      "Epoch:  199 Loss:  tensor(0.0422, grad_fn=<MseLossBackward0>)\n",
      "Epoch:  299 Loss:  tensor(0.0225, grad_fn=<MseLossBackward0>)\n",
      "Epoch:  399 Loss:  tensor(0.0145, grad_fn=<MseLossBackward0>)\n",
      "Epoch:  499 Loss:  tensor(0.0079, grad_fn=<MseLossBackward0>)\n",
      "Epoch:  599 Loss:  tensor(0.0137, grad_fn=<MseLossBackward0>)\n",
      "Epoch:  699 Loss:  tensor(0.0050, grad_fn=<MseLossBackward0>)\n",
      "Epoch:  799 Loss:  tensor(0.0032, grad_fn=<MseLossBackward0>)\n",
      "Epoch:  899 Loss:  tensor(0.0022, grad_fn=<MseLossBackward0>)\n",
      "Epoch:  999 Loss:  tensor(0.0458, grad_fn=<MseLossBackward0>)\n",
      "Epoch:  1099 Loss:  tensor(0.0233, grad_fn=<MseLossBackward0>)\n",
      "Epoch:  1199 Loss:  tensor(0.0067, grad_fn=<MseLossBackward0>)\n",
      "Epoch:  1299 Loss:  tensor(0.0029, grad_fn=<MseLossBackward0>)\n",
      "Epoch:  1399 Loss:  tensor(0.0021, grad_fn=<MseLossBackward0>)\n",
      "Epoch:  1499 Loss:  tensor(0.0046, grad_fn=<MseLossBackward0>)\n",
      "Epoch:  1599 Loss:  tensor(0.0016, grad_fn=<MseLossBackward0>)\n",
      "Epoch:  1699 Loss:  tensor(0.0013, grad_fn=<MseLossBackward0>)\n",
      "Epoch:  1799 Loss:  tensor(0.0010, grad_fn=<MseLossBackward0>)\n",
      "Epoch:  1899 Loss:  tensor(0.0009, grad_fn=<MseLossBackward0>)\n",
      "Epoch:  1999 Loss:  tensor(0.0007, grad_fn=<MseLossBackward0>)\n",
      "Epoch:  2099 Loss:  tensor(0.0006, grad_fn=<MseLossBackward0>)\n",
      "Epoch:  2199 Loss:  tensor(0.0005, grad_fn=<MseLossBackward0>)\n",
      "Epoch:  2299 Loss:  tensor(0.0004, grad_fn=<MseLossBackward0>)\n",
      "Epoch:  2399 Loss:  tensor(0.0004, grad_fn=<MseLossBackward0>)\n",
      "Epoch:  2499 Loss:  tensor(0.0003, grad_fn=<MseLossBackward0>)\n",
      "Epoch:  2599 Loss:  tensor(0.0113, grad_fn=<MseLossBackward0>)\n",
      "Epoch:  2699 Loss:  tensor(0.0019, grad_fn=<MseLossBackward0>)\n",
      "Epoch:  2799 Loss:  tensor(0.0011, grad_fn=<MseLossBackward0>)\n",
      "Epoch:  2899 Loss:  tensor(0.0008, grad_fn=<MseLossBackward0>)\n",
      "Epoch:  2999 Loss:  tensor(0.0006, grad_fn=<MseLossBackward0>)\n",
      "Epoch:  3099 Loss:  tensor(0.0004, grad_fn=<MseLossBackward0>)\n",
      "Epoch:  3199 Loss:  tensor(0.0003, grad_fn=<MseLossBackward0>)\n",
      "Epoch:  3299 Loss:  tensor(0.0003, grad_fn=<MseLossBackward0>)\n",
      "Epoch:  3399 Loss:  tensor(0.0003, grad_fn=<MseLossBackward0>)\n",
      "Epoch:  3499 Loss:  tensor(0.0002, grad_fn=<MseLossBackward0>)\n",
      "Epoch:  3599 Loss:  tensor(0.0002, grad_fn=<MseLossBackward0>)\n",
      "Epoch:  3699 Loss:  tensor(0.0002, grad_fn=<MseLossBackward0>)\n"
     ]
    }
   ],
   "source": [
    "criterion = torch.nn.MSELoss()\n",
    "epoch = 5000\n",
    "index = 0\n",
    "#for song in train:\n",
    "#index = index + 1\n",
    "#print(\"training song \", index)\n",
    "song = train[0]\n",
    "scaler_melody = MinMaxScaler()\n",
    "scaler_harmonies = MinMaxScaler()\n",
    "melody = torch.tensor(scaler_melody.fit_transform(song.iloc[0].values.reshape(-1,1)), dtype=torch.float32).unsqueeze(0).reshape(1,song.shape[1],1)\n",
    "harmonies = torch.tensor(scaler_harmonies.fit_transform(song.iloc[1:].values.T), dtype=torch.float32).unsqueeze(0)\n",
    "model = Model(1, harmonies.shape[2])\n",
    "optimizer = torch.optim.Adam(model.parameters(), lr=0.01)\n",
    "train_model(model, melody, harmonies, optimizer, criterion, epoch)"
   ]
  },
  {
   "cell_type": "markdown",
   "id": "7234bbe1-0257-4c91-a95f-263342853d92",
   "metadata": {},
   "source": [
    "# Hyperparameter "
   ]
  },
  {
   "cell_type": "code",
   "execution_count": null,
   "id": "46e1d90b-1d91-4fcc-a156-6edcb721d723",
   "metadata": {},
   "outputs": [],
   "source": [
    "learning = [0.01,0.001]\n",
    "n_layers= [1,2,3,4,5]\n",
    "epochs= [100,1000,5000]\n",
    "best_loss = float('inf')\n",
    "best_params = {}\n",
    "\n",
    "\n",
    "for LR in learning:\n",
    "    for n_layer in n_layers:\n",
    "        for epoch in epochs:\n",
    "            print(f\"Training with LR={LR} and n_layers={n_layer} and epochs={epoch}\")\n",
    "            model = Model(input_size=1, output_size=harmonies.shape[2], n_layers=n_layer)\n",
    "            optimizer = torch.optim.Adam(model.parameters(), lr=LR)\n",
    "            train_model(model, melody, harmonies, optimizer, criterion, epoch)\n",
    "            with torch.no_grad():\n",
    "                output = model(melody)\n",
    "                loss = criterion(output, harmonies)\n",
    "                print(f\"Final Loss: {loss.item()}\")        \n",
    "            # Keep track of the best model (with lowest loss)\n",
    "            if loss.item() < best_loss:\n",
    "                best_loss = loss.item()\n",
    "                best_params = {'learning': LR, 'n_layers': n_layer, 'epochs': epoch}\n",
    "print(\"BEST: \", best_params)"
   ]
  },
  {
   "cell_type": "code",
   "execution_count": null,
   "id": "b889de80",
   "metadata": {},
   "outputs": [],
   "source": [
    "# tiny = pd.DataFrame([[67,62,59,43], [68,62,59,43]]).transpose()\n",
    "# melody = torch.tensor(tiny.iloc[0], dtype=torch.float32).unsqueeze(0).reshape(1,2,1)\n",
    "# harmonies = torch.transpose(torch.tensor(tiny.iloc[1:].values, dtype=torch.float32),0,1).unsqueeze(0)\n",
    "# model = Model(1, harmonies.shape[2])\n",
    "# optimizer = torch.optim.Adam(model.parameters(), lr=0.01)\n",
    "# criterion = torch.nn.MSELoss()\n",
    "# train_model(model, melody, harmonies, optimizer, criterion, 10000)"
   ]
  },
  {
   "cell_type": "code",
   "execution_count": 53,
   "id": "9f9e5e39",
   "metadata": {},
   "outputs": [
    {
     "name": "stdout",
     "output_type": "stream",
     "text": [
      "[[60.766766 60.66858  60.75176  60.90184  61.058773 61.199177 61.33193\n",
      "  61.45681  61.587006 61.69361  61.794777 61.88997  61.97955  62.06384\n",
      "  62.143143 62.217747 62.274563 62.3432   62.40686  62.466675 62.51583\n",
      "  62.56969  62.61982  62.66687  62.69638  62.739815 62.77964  62.816982\n",
      "  62.85196  62.884724 62.915417 62.94417  62.98592  63.009678 63.032776\n",
      "  63.05442  63.081955 63.1004   63.118114 63.134747 63.16437  63.17798\n",
      "  63.19148  63.204166 63.19479  63.20764  63.2186   63.22896  63.223682\n",
      "  63.233902 63.242676 63.250957 63.25872  63.266006 63.272842 63.27926\n",
      "  63.26964  63.276337 63.28174  63.28685  63.291634 63.296124 63.30033\n",
      "  63.304276 63.32357  63.326096 63.329308 63.33227  63.35004  63.35181\n",
      "  63.354248 63.356503 63.36588  63.36748  63.369354 63.371105 63.372753\n",
      "  63.374306 63.375774 63.37716  63.37121  63.372837 63.374    63.375114\n",
      "  63.37616  63.37715  63.36313  63.36485  63.36567  63.36649  63.367256\n",
      "  63.36798  63.368668 63.369312 63.369926 63.370506 63.393147 63.392513\n",
      "  63.393032 63.393463 63.407833 63.407528 63.407925 63.408257 63.421906\n",
      "  63.421577 63.421883 63.42215  63.4224   63.42264  63.42287  63.423088\n",
      "  63.40996  63.410824 63.41099  63.411186 63.41137  63.411545 63.411713\n",
      "  63.397938 63.39881  63.398937 63.399086 63.39923  63.399376 63.399506\n",
      "  63.399635 63.39976  63.3927   63.393196 63.393295 63.393406 63.400684\n",
      "  63.400417 63.400536 63.40063  63.41458  63.41398  63.414093 63.41417\n",
      "  63.362877 63.3659   63.365833 63.365944 63.403214 63.40139  63.40156\n",
      "  63.401627 63.394543 63.39499  63.39504  63.395107 63.380417 63.381298\n",
      "  63.381325 63.3814   63.38147  63.38154  63.381607 63.381676 63.39644\n",
      "  63.395725 63.395824 63.395878 63.403053 63.402733 63.4028   63.402855\n",
      "  63.416668 63.41603  63.416107 63.416145 63.39527  63.396423 63.39641\n",
      "  63.396465 63.38183  63.38269  63.382698 63.38275  63.38281  63.382862\n",
      "  63.38291  63.38297  63.36776  63.368687 63.368694 63.36876  63.368813\n",
      "  63.36887  63.36893  63.368988]\n",
      " [66.53779  67.839554 68.05698  68.08876  68.083336 68.07686  68.06886\n",
      "  68.06089  68.043465 68.036964 68.030304 68.024025 68.0181   68.01249\n",
      "  68.00719  68.00218  68.00693  68.00177  67.99739  67.993225 67.99409\n",
      "  67.99002  67.986435 67.98302  67.989525 67.98578  67.98276  67.97986\n",
      "  67.97711  67.97451  67.97203  67.96968  67.95803  67.956505 67.95457\n",
      "  67.95274  67.94649  67.9451   67.94355  67.94208  67.93205  67.9312\n",
      "  67.92996  67.9288   67.94062  67.93875  67.93764  67.93652  67.94438\n",
      "  67.94278  67.94172  67.94067  67.939644 67.93865  67.9377   67.93677\n",
      "  67.94485  67.943375 67.942444 67.94151  67.94061  67.93971  67.93885\n",
      "  67.938    67.92849  67.92822  67.92749  67.9268   67.91786  67.917694\n",
      "  67.91709  67.91652  67.912    67.911674 67.91115  67.91065  67.91016\n",
      "  67.90967  67.90919  67.908714 67.91211  67.91142  67.91095  67.91046\n",
      "  67.90998  67.9095   67.91685  67.91591  67.9154   67.91487  67.91435\n",
      "  67.91383  67.91332  67.91282  67.912315 67.91181  67.90015  67.9003\n",
      "  67.89988  67.89949  67.89208  67.89208  67.89174  67.89141  67.884415\n",
      "  67.884445 67.88415  67.88387  67.8836   67.88332  67.88306  67.88279\n",
      "  67.88907  67.88845  67.88816  67.88785  67.88755  67.887245 67.88694\n",
      "  67.89333  67.892654 67.892334 67.89198  67.89164  67.8913   67.89096\n",
      "  67.890625 67.89028  67.893295 67.89278  67.89242  67.89206  67.8884\n",
      "  67.88824  67.88789  67.88757  67.8809   67.88092  67.88063  67.880356\n",
      "  67.90318  67.90149  67.9011   67.900635 67.88373  67.88422  67.883865\n",
      "  67.88357  67.88641  67.885925 67.88561  67.885284 67.89136  67.890656\n",
      "  67.890305 67.88993  67.889565 67.8892   67.88883  67.888466 67.88189\n",
      "  67.88189  67.88157  67.88126  67.87797  67.87784  67.87755  67.87727\n",
      "  67.87123  67.87127  67.871025 67.8708   67.87923  67.8785   67.878235\n",
      "  67.877945 67.88362  67.88298  67.88267  67.88234  67.88201  67.88169\n",
      "  67.88137  67.88105  67.8867   67.88602  67.885666 67.8853   67.88494\n",
      "  67.88458  67.88422  67.883865]\n",
      " [67.78928  71.74766  72.3879   72.54028  72.61688  72.66756  72.71273\n",
      "  72.75452  72.80667  72.841606 72.87528  72.907005 72.93693  72.96517\n",
      "  72.99183  73.01699  73.02834  73.052246 73.07411  73.094765 73.10809\n",
      "  73.12719  73.144875 73.161575 73.16514  73.18138  73.19602  73.20991\n",
      "  73.22302  73.235435 73.24718  73.25831  73.28016  73.28906  73.29813\n",
      "  73.3067   73.32018  73.32746  73.33466  73.34151  73.35807  73.363464\n",
      "  73.36909  73.37445  73.364815 73.370964 73.37605  73.38098  73.375916\n",
      "  73.38132  73.385956 73.39046  73.39478  73.39896  73.40298  73.406845\n",
      "  73.4015   73.40599  73.409805 73.413536 73.41716  73.42068  73.424095\n",
      "  73.42743  73.43879  73.44119  73.44399  73.44669  73.4569   73.45883\n",
      "  73.46111  73.463326 73.46904  73.47086  73.47283  73.47475  73.47664\n",
      "  73.47848  73.4803   73.482086 73.480606 73.482605 73.4844   73.48619\n",
      "  73.48795  73.489685 73.485405 73.48764  73.48953  73.49143  73.4933\n",
      "  73.49515  73.49698  73.498795 73.500595 73.50237  73.5117   73.512764\n",
      "  73.51418  73.51557  73.52165  73.52263  73.52382  73.52498  73.53053\n",
      "  73.53135  73.53234  73.533325 73.53429  73.53525  73.53622  73.53716\n",
      "  73.53416  73.53541  73.536476 73.53755  73.53862  73.539696 73.54076\n",
      "  73.53828  73.53963  73.54083  73.542046 73.54324  73.544426 73.545616\n",
      "  73.5468   73.54798  73.5477   73.54901  73.550255 73.5515   73.55403\n",
      "  73.55513  73.55626  73.55739  73.560905 73.56179  73.562744 73.563705\n",
      "  73.55768  73.55947  73.56105  73.562645 73.568214 73.56915  73.57023\n",
      "  73.57129  73.5716   73.572754 73.573875 73.575005 73.57502  73.576324\n",
      "  73.577614 73.5789   73.58018  73.58144  73.5827   73.58396  73.58574\n",
      "  73.58682  73.58788  73.58893  73.5902   73.59119  73.59214  73.593094\n",
      "  73.594406 73.595245 73.596054 73.596855 73.59752  73.59844  73.59944\n",
      "  73.60044  73.60185  73.60292  73.604065 73.605194 73.606316 73.60744\n",
      "  73.60855  73.60966  73.61203  73.613174 73.61444  73.61569  73.616936\n",
      "  73.61818  73.6194   73.62063 ]]\n"
     ]
    },
    {
     "data": {
      "text/html": [
       "\n",
       "        <div id=\"midiPlayerDiv57907\"></div>\n",
       "        <link rel=\"stylesheet\" href=\"https://cuthbertLab.github.io/music21j/css/m21.css\">\n",
       "        \n",
       "        <script\n",
       "        src=\"https://cdnjs.cloudflare.com/ajax/libs/require.js/2.3.6/require.min.js\"\n",
       "        ></script>\n",
       "    \n",
       "        <script>\n",
       "        function midiPlayerDiv57907_play() {\n",
       "            const rq = require.config({\n",
       "                paths: {\n",
       "                    'music21': 'https://cuthbertLab.github.io/music21j/releases/music21.debug',\n",
       "                }\n",
       "            });\n",
       "            rq(['music21'], function(music21) {\n",
       "                mp = new music21.miditools.MidiPlayer();\n",
       "                mp.addPlayer(\"#midiPlayerDiv57907\");\n",
       "                mp.base64Load(\"data:audio/midi;base64,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\");\n",
       "            });\n",
       "        }\n",
       "        if (typeof require === 'undefined') {\n",
       "            setTimeout(midiPlayerDiv57907_play, 2000);\n",
       "        } else {\n",
       "            midiPlayerDiv57907_play();\n",
       "        }\n",
       "        </script>"
      ],
      "text/plain": [
       "<IPython.core.display.HTML object>"
      ]
     },
     "metadata": {},
     "output_type": "display_data"
    },
    {
     "data": {
      "text/plain": [
       "WindowsPath('C:/Users/foodrunner/CS370/PolyphAI/Code/output.xml')"
      ]
     },
     "execution_count": 53,
     "metadata": {},
     "output_type": "execute_result"
    }
   ],
   "source": [
    "melody = train[1].iloc[0]\n",
    "result = model(torch.tensor(melody, dtype=torch.float32).unsqueeze(0).reshape(1, train[0].shape[1], 1))\n",
    "result_numpy = result.detach().numpy()\n",
    "inversed = scaler_harmonies.inverse_transform(np.squeeze(result_numpy)).T\n",
    "print(inversed)\n",
    "\n",
    "score = stream.Score()\n",
    "melody_part = stream.Part()\n",
    "alto_part = stream.Part()\n",
    "tenor_part = stream.Part()\n",
    "bass_part = stream.Part()\n",
    "\n",
    "for pitch in melody:\n",
    "    melody_note = note.Note(int(pitch))\n",
    "    melody_part.append(melody_note)\n",
    "\n",
    "alto_notes = inversed[0]\n",
    "tenor_notes = inversed[1]\n",
    "bass_notes = inversed[2]  \n",
    "\n",
    "for pitch in alto_notes:\n",
    "    alto_note = note.Note(int(pitch.item()))\n",
    "    alto_part.append(alto_note)\n",
    "for pitch in tenor_notes:\n",
    "     tenor_note = note.Note(int(pitch.item()))\n",
    "     tenor_part.append(tenor_note)\n",
    "for pitch in bass_notes:\n",
    "    bass_note = note.Note(int(pitch.item()))\n",
    "    bass_part.append(bass_note)\n",
    "\n",
    "score.append(melody_part)\n",
    "score.append(alto_part)\n",
    "score.append(tenor_part)\n",
    "score.append(bass_part)\n",
    "score.show('midi')\n",
    "score.write('musicxml', 'output.xml')"
   ]
  },
  {
   "cell_type": "code",
   "execution_count": null,
   "id": "c75011af",
   "metadata": {},
   "outputs": [],
   "source": [
    "# Finetune (hyperparameters, move around test data (refer to notes), etc)"
   ]
  },
  {
   "cell_type": "code",
   "execution_count": null,
   "id": "7a19fdf0",
   "metadata": {},
   "outputs": [],
   "source": [
    "# Test with new data + evaluate"
   ]
  },
  {
   "cell_type": "code",
   "execution_count": null,
   "id": "fc27f4af",
   "metadata": {},
   "outputs": [],
   "source": [
    "# Make any other changes"
   ]
  },
  {
   "cell_type": "code",
   "execution_count": null,
   "id": "bc96a58c",
   "metadata": {},
   "outputs": [],
   "source": [
    "# Sheet music + audio (musicAI)"
   ]
  },
  {
   "cell_type": "code",
   "execution_count": null,
   "id": "dad609d2",
   "metadata": {},
   "outputs": [],
   "source": [
    "# Create new models if time permits (follow steps 3 - 7)"
   ]
  },
  {
   "cell_type": "code",
   "execution_count": null,
   "id": "eb5a3b48",
   "metadata": {},
   "outputs": [],
   "source": [
    "# Compare models"
   ]
  },
  {
   "cell_type": "code",
   "execution_count": null,
   "id": "095d0ec9",
   "metadata": {},
   "outputs": [],
   "source": [
    "# Front end ** if time permits\n",
    "# - Interactive sheet music\n",
    "# - musescore front end??"
   ]
  },
  {
   "cell_type": "code",
   "execution_count": null,
   "id": "121de9a4",
   "metadata": {},
   "outputs": [],
   "source": []
  }
 ],
 "metadata": {
  "kernelspec": {
   "display_name": "Python 3 (ipykernel)",
   "language": "python",
   "name": "python3"
  },
  "language_info": {
   "codemirror_mode": {
    "name": "ipython",
    "version": 3
   },
   "file_extension": ".py",
   "mimetype": "text/x-python",
   "name": "python",
   "nbconvert_exporter": "python",
   "pygments_lexer": "ipython3",
   "version": "3.11.9"
  }
 },
 "nbformat": 4,
 "nbformat_minor": 5
}
