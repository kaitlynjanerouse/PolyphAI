{
 "cells": [
  {
   "cell_type": "code",
   "execution_count": 8,
   "id": "7d361ffe",
   "metadata": {},
   "outputs": [],
   "source": [
    "# Include necessary imports\n",
    "import os\n",
    "import torch \n",
    "import pandas as pd\n",
    "from torch.utils.data import DataLoader\n",
    "from music21 import *\n",
    "import numpy as np"
   ]
  },
  {
   "cell_type": "code",
   "execution_count": 9,
   "id": "3c67e7cc",
   "metadata": {},
   "outputs": [],
   "source": [
    "# Preprocess the data\n",
    "\n",
    "folder_path = 'Data/'\n",
    "test = []\n",
    "train = []\n",
    "validation = []\n",
    "for dirname in os.listdir(folder_path):\n",
    "    if dirname != '.DS_Store':\n",
    "        for filename in os.listdir(folder_path + dirname):\n",
    "            df = pd.read_csv(folder_path + dirname + '/' + filename)\n",
    "            transposed_df = df.transpose()\n",
    "            if dirname == 'test':\n",
    "                test.append(transposed_df)\n",
    "            if dirname == 'train':\n",
    "                train.append(transposed_df)\n",
    "            if dirname == 'valid':\n",
    "                validation.append(transposed_df)"
   ]
  },
  {
   "cell_type": "markdown",
   "id": "d8606521",
   "metadata": {},
   "source": [
    "# Model"
   ]
  },
  {
   "cell_type": "code",
   "execution_count": 10,
   "id": "551e0b42",
   "metadata": {},
   "outputs": [],
   "source": [
    "class Model(torch.nn.Module):\n",
    "    def __init__(self, input_size, output_size, hidden_dim=50, n_layers=1):\n",
    "        super(Model, self).__init__()\n",
    "        self.hidden_dim = hidden_dim\n",
    "        self.n_layers = n_layers\n",
    "        self.lstm = torch.nn.LSTM(input_size, hidden_dim, n_layers, batch_first=True)\n",
    "        self.fc = torch.nn.Linear(hidden_dim, output_size) # fully connected layer\n",
    "        \n",
    "    def forward(self, x, hidden=None):\n",
    "        lstm_output, (h,c) = self.lstm(x, hidden)\n",
    "        model_output = self.fc(lstm_output)\n",
    "        return model_output"
   ]
  },
  {
   "cell_type": "markdown",
   "id": "2d09e503",
   "metadata": {},
   "source": [
    "# Train"
   ]
  },
  {
   "cell_type": "code",
   "execution_count": 11,
   "id": "511051f8",
   "metadata": {},
   "outputs": [],
   "source": [
    "def train_model(model, melody, harmonies, optimizer, criterion, num_epochs):\n",
    "    for epoch in range(num_epochs):\n",
    "        optimizer.zero_grad()\n",
    "        output = model(melody)\n",
    "        loss = criterion(output, harmonies)\n",
    "        loss.backward()\n",
    "        optimizer.step()\n",
    "        if (epoch + 1) % 100 == 0:\n",
    "            print(\"Epoch: \", epoch, \"Loss: \", loss)"
   ]
  },
  {
   "cell_type": "code",
   "execution_count": 12,
   "id": "6c6e6252",
   "metadata": {},
   "outputs": [
    {
     "name": "stdout",
     "output_type": "stream",
     "text": [
      "Epoch:  99 Loss:  tensor(529.5349, grad_fn=<MseLossBackward0>)\n",
      "Epoch:  199 Loss:  tensor(42.1777, grad_fn=<MseLossBackward0>)\n",
      "Epoch:  299 Loss:  tensor(13.3016, grad_fn=<MseLossBackward0>)\n",
      "Epoch:  399 Loss:  tensor(12.5561, grad_fn=<MseLossBackward0>)\n",
      "Epoch:  499 Loss:  tensor(12.5471, grad_fn=<MseLossBackward0>)\n",
      "Epoch:  599 Loss:  tensor(12.5463, grad_fn=<MseLossBackward0>)\n",
      "Epoch:  699 Loss:  tensor(12.5456, grad_fn=<MseLossBackward0>)\n",
      "Epoch:  799 Loss:  tensor(12.5450, grad_fn=<MseLossBackward0>)\n",
      "Epoch:  899 Loss:  tensor(12.5446, grad_fn=<MseLossBackward0>)\n",
      "Epoch:  999 Loss:  tensor(12.5442, grad_fn=<MseLossBackward0>)\n",
      "Epoch:  1099 Loss:  tensor(12.5438, grad_fn=<MseLossBackward0>)\n",
      "Epoch:  1199 Loss:  tensor(12.5434, grad_fn=<MseLossBackward0>)\n",
      "Epoch:  1299 Loss:  tensor(12.5431, grad_fn=<MseLossBackward0>)\n",
      "Epoch:  1399 Loss:  tensor(12.5428, grad_fn=<MseLossBackward0>)\n",
      "Epoch:  1499 Loss:  tensor(12.5425, grad_fn=<MseLossBackward0>)\n",
      "Epoch:  1599 Loss:  tensor(12.5422, grad_fn=<MseLossBackward0>)\n",
      "Epoch:  1699 Loss:  tensor(12.5419, grad_fn=<MseLossBackward0>)\n",
      "Epoch:  1799 Loss:  tensor(12.5416, grad_fn=<MseLossBackward0>)\n",
      "Epoch:  1899 Loss:  tensor(12.5413, grad_fn=<MseLossBackward0>)\n",
      "Epoch:  1999 Loss:  tensor(12.5410, grad_fn=<MseLossBackward0>)\n",
      "Epoch:  2099 Loss:  tensor(12.5407, grad_fn=<MseLossBackward0>)\n",
      "Epoch:  2199 Loss:  tensor(12.5403, grad_fn=<MseLossBackward0>)\n",
      "Epoch:  2299 Loss:  tensor(12.5400, grad_fn=<MseLossBackward0>)\n",
      "Epoch:  2399 Loss:  tensor(12.5397, grad_fn=<MseLossBackward0>)\n",
      "Epoch:  2499 Loss:  tensor(12.5394, grad_fn=<MseLossBackward0>)\n",
      "Epoch:  2599 Loss:  tensor(12.5390, grad_fn=<MseLossBackward0>)\n",
      "Epoch:  2699 Loss:  tensor(12.5386, grad_fn=<MseLossBackward0>)\n",
      "Epoch:  2799 Loss:  tensor(12.5383, grad_fn=<MseLossBackward0>)\n",
      "Epoch:  2899 Loss:  tensor(12.5379, grad_fn=<MseLossBackward0>)\n",
      "Epoch:  2999 Loss:  tensor(12.5374, grad_fn=<MseLossBackward0>)\n",
      "Epoch:  3099 Loss:  tensor(11.8272, grad_fn=<MseLossBackward0>)\n",
      "Epoch:  3199 Loss:  tensor(11.8316, grad_fn=<MseLossBackward0>)\n",
      "Epoch:  3299 Loss:  tensor(11.5866, grad_fn=<MseLossBackward0>)\n",
      "Epoch:  3399 Loss:  tensor(11.5450, grad_fn=<MseLossBackward0>)\n",
      "Epoch:  3499 Loss:  tensor(11.5279, grad_fn=<MseLossBackward0>)\n",
      "Epoch:  3599 Loss:  tensor(11.2268, grad_fn=<MseLossBackward0>)\n",
      "Epoch:  3699 Loss:  tensor(11.0831, grad_fn=<MseLossBackward0>)\n",
      "Epoch:  3799 Loss:  tensor(11.0522, grad_fn=<MseLossBackward0>)\n",
      "Epoch:  3899 Loss:  tensor(10.7685, grad_fn=<MseLossBackward0>)\n",
      "Epoch:  3999 Loss:  tensor(10.7814, grad_fn=<MseLossBackward0>)\n",
      "Epoch:  4099 Loss:  tensor(10.6322, grad_fn=<MseLossBackward0>)\n",
      "Epoch:  4199 Loss:  tensor(10.3675, grad_fn=<MseLossBackward0>)\n",
      "Epoch:  4299 Loss:  tensor(10.1851, grad_fn=<MseLossBackward0>)\n",
      "Epoch:  4399 Loss:  tensor(10.2016, grad_fn=<MseLossBackward0>)\n",
      "Epoch:  4499 Loss:  tensor(10.0728, grad_fn=<MseLossBackward0>)\n",
      "Epoch:  4599 Loss:  tensor(9.9642, grad_fn=<MseLossBackward0>)\n",
      "Epoch:  4699 Loss:  tensor(9.9504, grad_fn=<MseLossBackward0>)\n",
      "Epoch:  4799 Loss:  tensor(10.0695, grad_fn=<MseLossBackward0>)\n",
      "Epoch:  4899 Loss:  tensor(9.8734, grad_fn=<MseLossBackward0>)\n",
      "Epoch:  4999 Loss:  tensor(9.8305, grad_fn=<MseLossBackward0>)\n",
      "Epoch:  5099 Loss:  tensor(9.8612, grad_fn=<MseLossBackward0>)\n",
      "Epoch:  5199 Loss:  tensor(9.7661, grad_fn=<MseLossBackward0>)\n",
      "Epoch:  5299 Loss:  tensor(9.7497, grad_fn=<MseLossBackward0>)\n",
      "Epoch:  5399 Loss:  tensor(9.6656, grad_fn=<MseLossBackward0>)\n",
      "Epoch:  5499 Loss:  tensor(9.6605, grad_fn=<MseLossBackward0>)\n",
      "Epoch:  5599 Loss:  tensor(9.6108, grad_fn=<MseLossBackward0>)\n",
      "Epoch:  5699 Loss:  tensor(9.6082, grad_fn=<MseLossBackward0>)\n",
      "Epoch:  5799 Loss:  tensor(9.5430, grad_fn=<MseLossBackward0>)\n",
      "Epoch:  5899 Loss:  tensor(9.5828, grad_fn=<MseLossBackward0>)\n",
      "Epoch:  5999 Loss:  tensor(9.5675, grad_fn=<MseLossBackward0>)\n",
      "Epoch:  6099 Loss:  tensor(9.4713, grad_fn=<MseLossBackward0>)\n",
      "Epoch:  6199 Loss:  tensor(9.4294, grad_fn=<MseLossBackward0>)\n",
      "Epoch:  6299 Loss:  tensor(9.4026, grad_fn=<MseLossBackward0>)\n",
      "Epoch:  6399 Loss:  tensor(9.3713, grad_fn=<MseLossBackward0>)\n",
      "Epoch:  6499 Loss:  tensor(9.3396, grad_fn=<MseLossBackward0>)\n",
      "Epoch:  6599 Loss:  tensor(9.3019, grad_fn=<MseLossBackward0>)\n",
      "Epoch:  6699 Loss:  tensor(9.2777, grad_fn=<MseLossBackward0>)\n",
      "Epoch:  6799 Loss:  tensor(9.2329, grad_fn=<MseLossBackward0>)\n",
      "Epoch:  6899 Loss:  tensor(9.1975, grad_fn=<MseLossBackward0>)\n",
      "Epoch:  6999 Loss:  tensor(9.1630, grad_fn=<MseLossBackward0>)\n",
      "Epoch:  7099 Loss:  tensor(9.1197, grad_fn=<MseLossBackward0>)\n",
      "Epoch:  7199 Loss:  tensor(9.0772, grad_fn=<MseLossBackward0>)\n",
      "Epoch:  7299 Loss:  tensor(9.0337, grad_fn=<MseLossBackward0>)\n",
      "Epoch:  7399 Loss:  tensor(8.9940, grad_fn=<MseLossBackward0>)\n",
      "Epoch:  7499 Loss:  tensor(8.9560, grad_fn=<MseLossBackward0>)\n",
      "Epoch:  7599 Loss:  tensor(8.9207, grad_fn=<MseLossBackward0>)\n",
      "Epoch:  7699 Loss:  tensor(8.8870, grad_fn=<MseLossBackward0>)\n",
      "Epoch:  7799 Loss:  tensor(8.8547, grad_fn=<MseLossBackward0>)\n",
      "Epoch:  7899 Loss:  tensor(8.8236, grad_fn=<MseLossBackward0>)\n",
      "Epoch:  7999 Loss:  tensor(8.7937, grad_fn=<MseLossBackward0>)\n",
      "Epoch:  8099 Loss:  tensor(8.7772, grad_fn=<MseLossBackward0>)\n",
      "Epoch:  8199 Loss:  tensor(8.7382, grad_fn=<MseLossBackward0>)\n",
      "Epoch:  8299 Loss:  tensor(8.7126, grad_fn=<MseLossBackward0>)\n",
      "Epoch:  8399 Loss:  tensor(8.6886, grad_fn=<MseLossBackward0>)\n",
      "Epoch:  8499 Loss:  tensor(8.6661, grad_fn=<MseLossBackward0>)\n",
      "Epoch:  8599 Loss:  tensor(8.6457, grad_fn=<MseLossBackward0>)\n",
      "Epoch:  8699 Loss:  tensor(8.6264, grad_fn=<MseLossBackward0>)\n",
      "Epoch:  8799 Loss:  tensor(8.6110, grad_fn=<MseLossBackward0>)\n",
      "Epoch:  8899 Loss:  tensor(8.6031, grad_fn=<MseLossBackward0>)\n",
      "Epoch:  8999 Loss:  tensor(8.5890, grad_fn=<MseLossBackward0>)\n",
      "Epoch:  9099 Loss:  tensor(8.5776, grad_fn=<MseLossBackward0>)\n",
      "Epoch:  9199 Loss:  tensor(8.5650, grad_fn=<MseLossBackward0>)\n",
      "Epoch:  9299 Loss:  tensor(8.6585, grad_fn=<MseLossBackward0>)\n",
      "Epoch:  9399 Loss:  tensor(8.5385, grad_fn=<MseLossBackward0>)\n",
      "Epoch:  9499 Loss:  tensor(8.5230, grad_fn=<MseLossBackward0>)\n",
      "Epoch:  9599 Loss:  tensor(8.5134, grad_fn=<MseLossBackward0>)\n",
      "Epoch:  9699 Loss:  tensor(8.5047, grad_fn=<MseLossBackward0>)\n",
      "Epoch:  9799 Loss:  tensor(10.0150, grad_fn=<MseLossBackward0>)\n",
      "Epoch:  9899 Loss:  tensor(8.6475, grad_fn=<MseLossBackward0>)\n",
      "Epoch:  9999 Loss:  tensor(8.6112, grad_fn=<MseLossBackward0>)\n"
     ]
    }
   ],
   "source": [
    "criterion = torch.nn.MSELoss()\n",
    "# for song in train:\n",
    "melody = torch.tensor(train[0].iloc[0], dtype=torch.float32).unsqueeze(0).reshape(1,train[0].shape[1],1)\n",
    "harmonies = torch.transpose(torch.tensor(train[0].iloc[1:].values, dtype=torch.float32),0,1).unsqueeze(0)\n",
    "model = Model(1, harmonies.shape[2])\n",
    "optimizer = torch.optim.Adam(model.parameters(), lr=0.01)\n",
    "train_model(model, melody, harmonies, optimizer, criterion, 10000)"
   ]
  },
  {
   "cell_type": "code",
   "execution_count": 15,
   "id": "b889de80",
   "metadata": {},
   "outputs": [],
   "source": [
    "# tiny = pd.DataFrame([[67,62,59,43], [68,62,59,43]]).transpose()\n",
    "# melody = torch.tensor(tiny.iloc[0], dtype=torch.float32).unsqueeze(0).reshape(1,2,1)\n",
    "# harmonies = torch.transpose(torch.tensor(tiny.iloc[1:].values, dtype=torch.float32),0,1).unsqueeze(0)\n",
    "# model = Model(1, harmonies.shape[2])\n",
    "# optimizer = torch.optim.Adam(model.parameters(), lr=0.01)\n",
    "# criterion = torch.nn.MSELoss()\n",
    "# train_model(model, melody, harmonies, optimizer, criterion, 10000)"
   ]
  },
  {
   "cell_type": "code",
   "execution_count": 28,
   "id": "9f9e5e39",
   "metadata": {},
   "outputs": [
    {
     "data": {
      "text/html": [
       "\n",
       "        <div id=\"midiPlayerDiv45364\"></div>\n",
       "        <link rel=\"stylesheet\" href=\"https://cuthbertLab.github.io/music21j/css/m21.css\">\n",
       "        \n",
       "        <script\n",
       "        src=\"https://cdnjs.cloudflare.com/ajax/libs/require.js/2.3.6/require.min.js\"\n",
       "        ></script>\n",
       "    \n",
       "        <script>\n",
       "        function midiPlayerDiv45364_play() {\n",
       "            const rq = require.config({\n",
       "                paths: {\n",
       "                    'music21': 'https://cuthbertLab.github.io/music21j/releases/music21.debug',\n",
       "                }\n",
       "            });\n",
       "            rq(['music21'], function(music21) {\n",
       "                mp = new music21.miditools.MidiPlayer();\n",
       "                mp.addPlayer(\"#midiPlayerDiv45364\");\n",
       "                mp.base64Load(\"data:audio/midi;base64,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\");\n",
       "            });\n",
       "        }\n",
       "        if (typeof require === 'undefined') {\n",
       "            setTimeout(midiPlayerDiv45364_play, 2000);\n",
       "        } else {\n",
       "            midiPlayerDiv45364_play();\n",
       "        }\n",
       "        </script>"
      ],
      "text/plain": [
       "<IPython.core.display.HTML object>"
      ]
     },
     "metadata": {},
     "output_type": "display_data"
    },
    {
     "data": {
      "text/plain": [
       "WindowsPath('C:/Users/foodrunner/CS370/PolyphAI/Code/output.xml')"
      ]
     },
     "execution_count": 28,
     "metadata": {},
     "output_type": "execute_result"
    }
   ],
   "source": [
    "melody = train[0].iloc[0]\n",
    "result = model(torch.tensor(melody, dtype=torch.float32).unsqueeze(0).reshape(1, train[0].shape[1], 1))\n",
    "\n",
    "score = stream.Score()\n",
    "melody_part = stream.Part()\n",
    "alto_part = stream.Part()\n",
    "tenor_part = stream.Part()\n",
    "bass_part = stream.Part()\n",
    "\n",
    "for pitch in melody:\n",
    "    melody_note = note.Note(int(pitch))\n",
    "    melody_part.append(melody_note)\n",
    "\n",
    "alto_notes = result[0, :, 0]\n",
    "tenor_notes = result[0, :, 1]\n",
    "bass_notes = result[0, :, 2]  \n",
    "\n",
    "for pitch in alto_notes:\n",
    "    alto_note = note.Note(int(pitch.item()))\n",
    "    alto_part.append(alto_note)\n",
    "for pitch in tenor_notes:\n",
    "     tenor_note = note.Note(int(pitch.item()))\n",
    "     tenor_part.append(tenor_note)\n",
    "for pitch in bass_notes:\n",
    "    bass_note = note.Note(int(pitch.item()))\n",
    "    bass_part.append(bass_note)\n",
    "\n",
    "score.append(melody_part)\n",
    "score.append(alto_part)\n",
    "score.append(tenor_part)\n",
    "score.append(bass_part)\n",
    "score.show('midi')\n",
    "score.write('musicxml', 'output.xml')"
   ]
  },
  {
   "cell_type": "code",
   "execution_count": null,
   "id": "c75011af",
   "metadata": {},
   "outputs": [],
   "source": [
    "# Finetune (hyperparameters, move around test data (refer to notes), etc)"
   ]
  },
  {
   "cell_type": "code",
   "execution_count": null,
   "id": "7a19fdf0",
   "metadata": {},
   "outputs": [],
   "source": [
    "# Test with new data + evaluate"
   ]
  },
  {
   "cell_type": "code",
   "execution_count": null,
   "id": "fc27f4af",
   "metadata": {},
   "outputs": [],
   "source": [
    "# Make any other changes"
   ]
  },
  {
   "cell_type": "code",
   "execution_count": null,
   "id": "bc96a58c",
   "metadata": {},
   "outputs": [],
   "source": [
    "# Sheet music + audio (musicAI)"
   ]
  },
  {
   "cell_type": "code",
   "execution_count": null,
   "id": "dad609d2",
   "metadata": {},
   "outputs": [],
   "source": [
    "# Create new models if time permits (follow steps 3 - 7)"
   ]
  },
  {
   "cell_type": "code",
   "execution_count": null,
   "id": "eb5a3b48",
   "metadata": {},
   "outputs": [],
   "source": [
    "# Compare models"
   ]
  },
  {
   "cell_type": "code",
   "execution_count": null,
   "id": "095d0ec9",
   "metadata": {},
   "outputs": [],
   "source": [
    "# Front end ** if time permits\n",
    "# - Interactive sheet music\n",
    "# - musescore front end??"
   ]
  },
  {
   "cell_type": "code",
   "execution_count": null,
   "id": "121de9a4",
   "metadata": {},
   "outputs": [],
   "source": []
  }
 ],
 "metadata": {
  "kernelspec": {
   "display_name": "Python 3 (ipykernel)",
   "language": "python",
   "name": "python3"
  },
  "language_info": {
   "codemirror_mode": {
    "name": "ipython",
    "version": 3
   },
   "file_extension": ".py",
   "mimetype": "text/x-python",
   "name": "python",
   "nbconvert_exporter": "python",
   "pygments_lexer": "ipython3",
   "version": "3.11.9"
  }
 },
 "nbformat": 4,
 "nbformat_minor": 5
}
