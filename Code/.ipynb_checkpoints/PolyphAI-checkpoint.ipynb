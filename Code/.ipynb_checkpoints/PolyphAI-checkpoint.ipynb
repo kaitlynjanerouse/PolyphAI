{
 "cells": [
  {
   "cell_type": "code",
   "execution_count": 12,
   "id": "7d361ffe",
   "metadata": {},
   "outputs": [],
   "source": [
    "# Include necessary imports\n",
    "import os\n",
    "import torch \n",
    "import pandas as pd\n",
    "from torch.utils.data import DataLoader\n",
    "from music21 import *\n",
    "import numpy as np"
   ]
  },
  {
   "cell_type": "code",
   "execution_count": 49,
   "id": "3c67e7cc",
   "metadata": {},
   "outputs": [],
   "source": [
    "# Preprocess the data\n",
    "\n",
    "folder_path = 'Data/'\n",
    "test = []\n",
    "train = []\n",
    "validation = []\n",
    "for dirname in os.listdir(folder_path):\n",
    "    if dirname != '.DS_Store':\n",
    "        for filename in os.listdir(folder_path + dirname):\n",
    "            df = pd.read_csv(folder_path + dirname + '/' + filename)\n",
    "            transposed_df = df.transpose()\n",
    "            if dirname == 'test':\n",
    "                test.append(transposed_df)\n",
    "            if dirname == 'train':\n",
    "                train.append(transposed_df)\n",
    "            if dirname == 'valid':\n",
    "                validation.append(transposed_df)"
   ]
  },
  {
   "cell_type": "markdown",
   "id": "d8606521",
   "metadata": {},
   "source": [
    "# Model"
   ]
  },
  {
   "cell_type": "code",
   "execution_count": 163,
   "id": "551e0b42",
   "metadata": {},
   "outputs": [],
   "source": [
    "class Model(torch.nn.Module):\n",
    "    def __init__(self, input_size, output_size, hidden_dim=3, n_layers=1):\n",
    "        super(Model, self).__init__()\n",
    "        self.hidden_dim = hidden_dim\n",
    "        self.n_layers = n_layers\n",
    "        self.lstm = torch.nn.LSTM(input_size, hidden_dim, n_layers, batch_first=True)\n",
    "        self.fc = torch.nn.Linear(hidden_dim, output_size) # fully connected layer\n",
    "        \n",
    "    def forward(self, x, hidden=None):\n",
    "        lstm_output, (h,c) = self.lstm(x, hidden)\n",
    "        model_output = self.fc(lstm_output)\n",
    "        return model_output"
   ]
  },
  {
   "cell_type": "markdown",
   "id": "2d09e503",
   "metadata": {},
   "source": [
    "# Train"
   ]
  },
  {
   "cell_type": "code",
   "execution_count": 180,
   "id": "511051f8",
   "metadata": {},
   "outputs": [],
   "source": [
    "def train_model(model, melody, harmonies, num_epochs, criterion):\n",
    "    for epoch in range(num_epochs):\n",
    "        output = model(melody)\n",
    "        loss = criterion(output, harmonies)\n",
    "        loss.backward()\n",
    "#         if (epoch + 1) % 100 == 0:\n",
    "#         print(\"Epoch: \", epoch, \"Loss: \", loss)"
   ]
  },
  {
   "cell_type": "code",
   "execution_count": 181,
   "id": "6c6e6252",
   "metadata": {},
   "outputs": [],
   "source": [
    "# criterion = torch.nn.MSELoss()\n",
    "# for song in train:\n",
    "#     print(song)\n",
    "#     melody = torch.tensor(song.iloc[0]).unsqueeze(0).float()\n",
    "#     print(melody)\n",
    "#     print(song.count())\n",
    "#     harmonies = torch.tensor(song.iloc[1:].values).unsqueeze(0).float().reshape(1, song.shape[1], 3)\n",
    "#     print(harmonies.shape)\n",
    "#     model = Model(melody.shape[1], harmonies.shape[2])\n",
    "#     train_model(model, melody, harmonies, 100, criterion)"
   ]
  },
  {
   "cell_type": "code",
   "execution_count": 182,
   "id": "fe85f33a",
   "metadata": {},
   "outputs": [
    {
     "name": "stdout",
     "output_type": "stream",
     "text": [
      "Epoch:  0 Loss:  tensor(3006.6907, grad_fn=<MseLossBackward0>)\n",
      "Epoch:  1 Loss:  tensor(3006.6907, grad_fn=<MseLossBackward0>)\n",
      "Epoch:  2 Loss:  tensor(3006.6907, grad_fn=<MseLossBackward0>)\n",
      "Epoch:  3 Loss:  tensor(3006.6907, grad_fn=<MseLossBackward0>)\n",
      "Epoch:  4 Loss:  tensor(3006.6907, grad_fn=<MseLossBackward0>)\n",
      "Epoch:  5 Loss:  tensor(3006.6907, grad_fn=<MseLossBackward0>)\n",
      "Epoch:  6 Loss:  tensor(3006.6907, grad_fn=<MseLossBackward0>)\n",
      "Epoch:  7 Loss:  tensor(3006.6907, grad_fn=<MseLossBackward0>)\n",
      "Epoch:  8 Loss:  tensor(3006.6907, grad_fn=<MseLossBackward0>)\n",
      "Epoch:  9 Loss:  tensor(3006.6907, grad_fn=<MseLossBackward0>)\n",
      "Epoch:  10 Loss:  tensor(3006.6907, grad_fn=<MseLossBackward0>)\n",
      "Epoch:  11 Loss:  tensor(3006.6907, grad_fn=<MseLossBackward0>)\n",
      "Epoch:  12 Loss:  tensor(3006.6907, grad_fn=<MseLossBackward0>)\n",
      "Epoch:  13 Loss:  tensor(3006.6907, grad_fn=<MseLossBackward0>)\n",
      "Epoch:  14 Loss:  tensor(3006.6907, grad_fn=<MseLossBackward0>)\n",
      "Epoch:  15 Loss:  tensor(3006.6907, grad_fn=<MseLossBackward0>)\n",
      "Epoch:  16 Loss:  tensor(3006.6907, grad_fn=<MseLossBackward0>)\n",
      "Epoch:  17 Loss:  tensor(3006.6907, grad_fn=<MseLossBackward0>)\n",
      "Epoch:  18 Loss:  tensor(3006.6907, grad_fn=<MseLossBackward0>)\n",
      "Epoch:  19 Loss:  tensor(3006.6907, grad_fn=<MseLossBackward0>)\n",
      "Epoch:  20 Loss:  tensor(3006.6907, grad_fn=<MseLossBackward0>)\n",
      "Epoch:  21 Loss:  tensor(3006.6907, grad_fn=<MseLossBackward0>)\n",
      "Epoch:  22 Loss:  tensor(3006.6907, grad_fn=<MseLossBackward0>)\n",
      "Epoch:  23 Loss:  tensor(3006.6907, grad_fn=<MseLossBackward0>)\n",
      "Epoch:  24 Loss:  tensor(3006.6907, grad_fn=<MseLossBackward0>)\n",
      "Epoch:  25 Loss:  tensor(3006.6907, grad_fn=<MseLossBackward0>)\n",
      "Epoch:  26 Loss:  tensor(3006.6907, grad_fn=<MseLossBackward0>)\n",
      "Epoch:  27 Loss:  tensor(3006.6907, grad_fn=<MseLossBackward0>)\n",
      "Epoch:  28 Loss:  tensor(3006.6907, grad_fn=<MseLossBackward0>)\n",
      "Epoch:  29 Loss:  tensor(3006.6907, grad_fn=<MseLossBackward0>)\n",
      "Epoch:  30 Loss:  tensor(3006.6907, grad_fn=<MseLossBackward0>)\n",
      "Epoch:  31 Loss:  tensor(3006.6907, grad_fn=<MseLossBackward0>)\n",
      "Epoch:  32 Loss:  tensor(3006.6907, grad_fn=<MseLossBackward0>)\n",
      "Epoch:  33 Loss:  tensor(3006.6907, grad_fn=<MseLossBackward0>)\n",
      "Epoch:  34 Loss:  tensor(3006.6907, grad_fn=<MseLossBackward0>)\n",
      "Epoch:  35 Loss:  tensor(3006.6907, grad_fn=<MseLossBackward0>)\n",
      "Epoch:  36 Loss:  tensor(3006.6907, grad_fn=<MseLossBackward0>)\n",
      "Epoch:  37 Loss:  tensor(3006.6907, grad_fn=<MseLossBackward0>)\n",
      "Epoch:  38 Loss:  tensor(3006.6907, grad_fn=<MseLossBackward0>)\n",
      "Epoch:  39 Loss:  tensor(3006.6907, grad_fn=<MseLossBackward0>)\n",
      "Epoch:  40 Loss:  tensor(3006.6907, grad_fn=<MseLossBackward0>)\n",
      "Epoch:  41 Loss:  tensor(3006.6907, grad_fn=<MseLossBackward0>)\n",
      "Epoch:  42 Loss:  tensor(3006.6907, grad_fn=<MseLossBackward0>)\n",
      "Epoch:  43 Loss:  tensor(3006.6907, grad_fn=<MseLossBackward0>)\n",
      "Epoch:  44 Loss:  tensor(3006.6907, grad_fn=<MseLossBackward0>)\n",
      "Epoch:  45 Loss:  tensor(3006.6907, grad_fn=<MseLossBackward0>)\n",
      "Epoch:  46 Loss:  tensor(3006.6907, grad_fn=<MseLossBackward0>)\n",
      "Epoch:  47 Loss:  tensor(3006.6907, grad_fn=<MseLossBackward0>)\n",
      "Epoch:  48 Loss:  tensor(3006.6907, grad_fn=<MseLossBackward0>)\n",
      "Epoch:  49 Loss:  tensor(3006.6907, grad_fn=<MseLossBackward0>)\n",
      "Epoch:  50 Loss:  tensor(3006.6907, grad_fn=<MseLossBackward0>)\n",
      "Epoch:  51 Loss:  tensor(3006.6907, grad_fn=<MseLossBackward0>)\n",
      "Epoch:  52 Loss:  tensor(3006.6907, grad_fn=<MseLossBackward0>)\n",
      "Epoch:  53 Loss:  tensor(3006.6907, grad_fn=<MseLossBackward0>)\n",
      "Epoch:  54 Loss:  tensor(3006.6907, grad_fn=<MseLossBackward0>)\n",
      "Epoch:  55 Loss:  tensor(3006.6907, grad_fn=<MseLossBackward0>)\n",
      "Epoch:  56 Loss:  tensor(3006.6907, grad_fn=<MseLossBackward0>)\n",
      "Epoch:  57 Loss:  tensor(3006.6907, grad_fn=<MseLossBackward0>)\n",
      "Epoch:  58 Loss:  tensor(3006.6907, grad_fn=<MseLossBackward0>)\n",
      "Epoch:  59 Loss:  tensor(3006.6907, grad_fn=<MseLossBackward0>)\n",
      "Epoch:  60 Loss:  tensor(3006.6907, grad_fn=<MseLossBackward0>)\n",
      "Epoch:  61 Loss:  tensor(3006.6907, grad_fn=<MseLossBackward0>)\n",
      "Epoch:  62 Loss:  tensor(3006.6907, grad_fn=<MseLossBackward0>)\n",
      "Epoch:  63 Loss:  tensor(3006.6907, grad_fn=<MseLossBackward0>)\n",
      "Epoch:  64 Loss:  tensor(3006.6907, grad_fn=<MseLossBackward0>)\n",
      "Epoch:  65 Loss:  tensor(3006.6907, grad_fn=<MseLossBackward0>)\n",
      "Epoch:  66 Loss:  tensor(3006.6907, grad_fn=<MseLossBackward0>)\n",
      "Epoch:  67 Loss:  tensor(3006.6907, grad_fn=<MseLossBackward0>)\n",
      "Epoch:  68 Loss:  tensor(3006.6907, grad_fn=<MseLossBackward0>)\n",
      "Epoch:  69 Loss:  tensor(3006.6907, grad_fn=<MseLossBackward0>)\n",
      "Epoch:  70 Loss:  tensor(3006.6907, grad_fn=<MseLossBackward0>)\n",
      "Epoch:  71 Loss:  tensor(3006.6907, grad_fn=<MseLossBackward0>)\n",
      "Epoch:  72 Loss:  tensor(3006.6907, grad_fn=<MseLossBackward0>)\n",
      "Epoch:  73 Loss:  tensor(3006.6907, grad_fn=<MseLossBackward0>)\n",
      "Epoch:  74 Loss:  tensor(3006.6907, grad_fn=<MseLossBackward0>)\n",
      "Epoch:  75 Loss:  tensor(3006.6907, grad_fn=<MseLossBackward0>)\n",
      "Epoch:  76 Loss:  tensor(3006.6907, grad_fn=<MseLossBackward0>)\n",
      "Epoch:  77 Loss:  tensor(3006.6907, grad_fn=<MseLossBackward0>)\n",
      "Epoch:  78 Loss:  tensor(3006.6907, grad_fn=<MseLossBackward0>)\n",
      "Epoch:  79 Loss:  tensor(3006.6907, grad_fn=<MseLossBackward0>)\n",
      "Epoch:  80 Loss:  tensor(3006.6907, grad_fn=<MseLossBackward0>)\n",
      "Epoch:  81 Loss:  tensor(3006.6907, grad_fn=<MseLossBackward0>)\n",
      "Epoch:  82 Loss:  tensor(3006.6907, grad_fn=<MseLossBackward0>)\n",
      "Epoch:  83 Loss:  tensor(3006.6907, grad_fn=<MseLossBackward0>)\n",
      "Epoch:  84 Loss:  tensor(3006.6907, grad_fn=<MseLossBackward0>)\n",
      "Epoch:  85 Loss:  tensor(3006.6907, grad_fn=<MseLossBackward0>)\n",
      "Epoch:  86 Loss:  tensor(3006.6907, grad_fn=<MseLossBackward0>)\n",
      "Epoch:  87 Loss:  tensor(3006.6907, grad_fn=<MseLossBackward0>)\n",
      "Epoch:  88 Loss:  tensor(3006.6907, grad_fn=<MseLossBackward0>)\n",
      "Epoch:  89 Loss:  tensor(3006.6907, grad_fn=<MseLossBackward0>)\n",
      "Epoch:  90 Loss:  tensor(3006.6907, grad_fn=<MseLossBackward0>)\n",
      "Epoch:  91 Loss:  tensor(3006.6907, grad_fn=<MseLossBackward0>)\n",
      "Epoch:  92 Loss:  tensor(3006.6907, grad_fn=<MseLossBackward0>)\n",
      "Epoch:  93 Loss:  tensor(3006.6907, grad_fn=<MseLossBackward0>)\n",
      "Epoch:  94 Loss:  tensor(3006.6907, grad_fn=<MseLossBackward0>)\n",
      "Epoch:  95 Loss:  tensor(3006.6907, grad_fn=<MseLossBackward0>)\n",
      "Epoch:  96 Loss:  tensor(3006.6907, grad_fn=<MseLossBackward0>)\n",
      "Epoch:  97 Loss:  tensor(3006.6907, grad_fn=<MseLossBackward0>)\n",
      "Epoch:  98 Loss:  tensor(3006.6907, grad_fn=<MseLossBackward0>)\n",
      "Epoch:  99 Loss:  tensor(3006.6907, grad_fn=<MseLossBackward0>)\n"
     ]
    }
   ],
   "source": [
    "tiny = pd.DataFrame([[67,62,59,43], [68,62,59,43]]).transpose()\n",
    "melody = torch.tensor(tiny.iloc[0], dtype=torch.float32).reshape(1,2,1)\n",
    "harmonies = torch.tensor(tiny.iloc[1:].values, dtype=torch.float32).unsqueeze(0).reshape(1, 2, 3)\n",
    "model = Model(1, harmonies.shape[2])\n",
    "train_model(model, melody, harmonies, 100, criterion)"
   ]
  },
  {
   "cell_type": "code",
   "execution_count": 152,
   "id": "9f9e5e39",
   "metadata": {},
   "outputs": [],
   "source": [
    "# # Test\n",
    "# result = model(torch.tensor(test[0].iloc[0]).unsqueeze(-1).float().to(torch.float32))\n",
    "# full_song = converter.parse(result)\n",
    "# full_song.show()\n",
    "# full_song.show('midi')"
   ]
  },
  {
   "cell_type": "code",
   "execution_count": null,
   "id": "c75011af",
   "metadata": {},
   "outputs": [],
   "source": [
    "# Finetune (hyperparameters, move around test data (refer to notes), etc)"
   ]
  },
  {
   "cell_type": "code",
   "execution_count": null,
   "id": "7a19fdf0",
   "metadata": {},
   "outputs": [],
   "source": [
    "# Test with new data + evaluate"
   ]
  },
  {
   "cell_type": "code",
   "execution_count": null,
   "id": "fc27f4af",
   "metadata": {},
   "outputs": [],
   "source": [
    "# Make any other changes"
   ]
  },
  {
   "cell_type": "code",
   "execution_count": null,
   "id": "bc96a58c",
   "metadata": {},
   "outputs": [],
   "source": [
    "# Sheet music + audio (musicAI)"
   ]
  },
  {
   "cell_type": "code",
   "execution_count": null,
   "id": "dad609d2",
   "metadata": {},
   "outputs": [],
   "source": [
    "# Create new models if time permits (follow steps 3 - 7)"
   ]
  },
  {
   "cell_type": "code",
   "execution_count": null,
   "id": "eb5a3b48",
   "metadata": {},
   "outputs": [],
   "source": [
    "# Compare models"
   ]
  },
  {
   "cell_type": "code",
   "execution_count": null,
   "id": "095d0ec9",
   "metadata": {},
   "outputs": [],
   "source": [
    "# Front end ** if time permits\n",
    "# - Interactive sheet music\n",
    "# - musescore front end??"
   ]
  },
  {
   "cell_type": "code",
   "execution_count": null,
   "id": "087f9d19",
   "metadata": {},
   "outputs": [],
   "source": []
  },
  {
   "cell_type": "code",
   "execution_count": null,
   "id": "93ab29ac",
   "metadata": {},
   "outputs": [],
   "source": []
  }
 ],
 "metadata": {
  "kernelspec": {
   "display_name": "Python 3 (ipykernel)",
   "language": "python",
   "name": "python3"
  },
  "language_info": {
   "codemirror_mode": {
    "name": "ipython",
    "version": 3
   },
   "file_extension": ".py",
   "mimetype": "text/x-python",
   "name": "python",
   "nbconvert_exporter": "python",
   "pygments_lexer": "ipython3",
   "version": "3.11.4"
  }
 },
 "nbformat": 4,
 "nbformat_minor": 5
}
