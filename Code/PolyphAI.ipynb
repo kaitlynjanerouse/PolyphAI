{
 "cells": [
  {
   "cell_type": "code",
   "execution_count": 1,
   "id": "7d361ffe",
   "metadata": {},
   "outputs": [],
   "source": [
    "# Include necessary imports\n",
    "import os\n",
    "import torch \n",
    "import torch.nn as nn\n",
    "import pandas as pd\n",
    "from torch.utils.data import DataLoader, TensorDataset\n",
    "from music21 import *\n",
    "import numpy as np\n",
    "from sklearn.model_selection import GridSearchCV\n",
    "from sklearn.preprocessing import MinMaxScaler\n",
    "from torch.nn.utils.rnn import pad_sequence\n",
    "from transformers import T5ForConditionalGeneration, T5Tokenizer\n",
    "import random"
   ]
  },
  {
   "cell_type": "code",
   "execution_count": 303,
   "id": "3c67e7cc",
   "metadata": {},
   "outputs": [],
   "source": [
    "# Preprocess the data\n",
    "\n",
    "def detect_tonic(df):\n",
    "    bass_notes = df.iloc[3].values\n",
    "    unique, counts = np.unique(bass_notes, return_counts=True)\n",
    "    \n",
    "    most_frequent_note = unique[np.argmax(counts)]\n",
    "    return most_frequent_note\n",
    "\n",
    "def key_transposition(df):\n",
    "    tonic_note = detect_tonic(df)\n",
    "    \n",
    "    transpose_val = 48 - tonic_note\n",
    "    df += transpose_val\n",
    "    \n",
    "    df = df.clip(lower=0, upper=127)\n",
    "    return df\n",
    "\n",
    "# Min-Max normalization technique\n",
    "def normalize_df(df):\n",
    "    X_std = df / 127\n",
    "    return X_std\n",
    "\n",
    "folder_path = 'Data/'\n",
    "test = []\n",
    "train = []\n",
    "validation = []\n",
    "for dirname in os.listdir(folder_path):\n",
    "    if dirname != '.DS_Store':\n",
    "        for filename in os.listdir(folder_path + dirname):\n",
    "            if filename != '.ipynb_checkpoints':\n",
    "                df = pd.read_csv(folder_path + dirname + '/' + filename)\n",
    "                transposed_df = key_transposition(df.transpose())\n",
    "                normalized_df = normalize_df(transposed_df)\n",
    "                if dirname == 'test':\n",
    "                    test.append(normalized_df)\n",
    "                if dirname == 'train':\n",
    "                    train.append(normalized_df)\n",
    "                if dirname == 'valid':\n",
    "                    validation.append(normalized_df)"
   ]
  },
  {
   "cell_type": "markdown",
   "id": "d8606521",
   "metadata": {},
   "source": [
    "# Model"
   ]
  },
  {
   "cell_type": "code",
   "execution_count": 304,
   "id": "551e0b42",
   "metadata": {},
   "outputs": [],
   "source": [
    "class Model(torch.nn.Module):\n",
    "    def __init__(self, input_size, output_size, hidden_dim=40, n_layers=2, dropout_rate=.3):\n",
    "        super(Model, self).__init__()\n",
    "        self.hidden_dim = hidden_dim\n",
    "        self.n_layers = n_layers\n",
    "        self.lstm = torch.nn.LSTM(input_size, hidden_dim, n_layers, batch_first=True, dropout=dropout_rate)\n",
    "        self.fc = torch.nn.Linear(hidden_dim, output_size * 128)\n",
    "        self.dropout = torch.nn.Dropout(dropout_rate)\n",
    "\n",
    "    def init_hidden(self, batch_size):\n",
    "        return (torch.zeros(self.n_layers, batch_size, self.hidden_dim).to(next(self.parameters()).device),\n",
    "                torch.zeros(self.n_layers, batch_size, self.hidden_dim).to(next(self.parameters()).device))\n",
    "\n",
    "    def forward(self, x, target=None, hidden=None, teacher_forcing=.7):\n",
    "        batch_size, seq_len, _ = x.size()\n",
    "        if hidden is None:\n",
    "            hidden = self.init_hidden(batch_size)\n",
    "        lstm_input = x[:, 0:1, :]  # Start with the first step\n",
    "\n",
    "        outputs = []\n",
    "\n",
    "        for t in range(seq_len):\n",
    "            lstm_output, hidden = self.lstm(lstm_input, hidden)\n",
    "            lstm_output_step = lstm_output[:, -1, :]  # Extract output for the current timestep\n",
    "            model_output_step = self.fc(lstm_output_step)  # Pass through the fully connected layer\n",
    "            model_output_step = model_output_step.view(batch_size, 3, 128)  # No softmax here\n",
    "\n",
    "            outputs.append(model_output_step.unsqueeze(1))  # Store the output for this timestep\n",
    "\n",
    "            if target is not None and random.random() < teacher_forcing:\n",
    "                next_harmony = target[:, t:t+1, :]\n",
    "            else:\n",
    "                next_harmony = model_output_step.argmax(dim=-1).unsqueeze(1)  # Shape: (batch_size, 1, 3)\n",
    "\n",
    "            next_harmony = next_harmony.view(batch_size, 1, 3)\n",
    "\n",
    "            # Prepare input for the next timestep (concatenate melody with predicted/true harmonies)\n",
    "            if t + 1 < seq_len:\n",
    "                melody_at_next_step = x[:, t + 1:t + 2, :1]  # Extract melody for the next step (shape: [batch_size, 1, 1])\n",
    "                lstm_input = torch.cat((melody_at_next_step, next_harmony), dim=2)  # Concatenate melody and harmonies\n",
    "\n",
    "        output = torch.cat(outputs, dim=1)  # Concatenate all outputs along the sequence dimension\n",
    "        return output"
   ]
  },
  {
   "cell_type": "markdown",
   "id": "2d09e503",
   "metadata": {},
   "source": [
    "# Train"
   ]
  },
  {
   "cell_type": "code",
   "execution_count": 305,
   "id": "511051f8",
   "metadata": {},
   "outputs": [],
   "source": [
    "def train_model(model, optimizer, criterion, num_epochs):\n",
    "    model.train()\n",
    "    for song_index, song in enumerate(train[:5]):\n",
    "        print(f\"Training on song {song_index + 1}\")\n",
    "        \n",
    "        melody = torch.tensor(song.iloc[0].values.reshape(-1, 1), dtype=torch.float32).unsqueeze(0).reshape(1, song.shape[1], 1)\n",
    "        harmonies = torch.tensor(song.iloc[1:].values.T, dtype=torch.float32).unsqueeze(0)\n",
    "#         input_song = torch.tensor(song.values.T, dtype=torch.float32).unsqueeze(0)\n",
    "        harmonies_with_zero = torch.zeros(1, song.shape[1], 3)\n",
    "        melody_with_empty_harmonies = torch.cat((melody, harmonies_with_zero), dim = -1)\n",
    "        harmonies_for_loss = harmonies_to_class(harmonies)\n",
    "       \n",
    "        \n",
    "        for epoch in range(num_epochs):\n",
    "            optimizer.zero_grad()\n",
    "            output = model(melody_with_empty_harmonies, harmonies)\n",
    "            output = output.reshape(-1, 128)\n",
    "            harmonies_for_loss = harmonies_for_loss.reshape(-1)\n",
    "            loss = criterion(output, harmonies_for_loss)\n",
    "            loss.backward()\n",
    "            optimizer.step()\n",
    "\n",
    "            if (epoch + 1) % 10 == 0:\n",
    "                print(f\"Song {song_index + 1}, Epoch {epoch + 1}/{num_epochs}, Loss: {loss.item()}\")\n",
    "                if torch.isnan(loss):\n",
    "                    print(\"harmonies: \", harmonies)\n",
    "                    print(\"melody:\" , melody)\n",
    "                    print(\"output: \", output)\n",
    "                    \n",
    "\n",
    "        model.eval()\n",
    "        total_val_loss = 0\n",
    "        \n",
    "        # validation songs\n",
    "        with torch.no_grad():\n",
    "            for val_song in validation:\n",
    "                val_melody = torch.tensor(val_song.iloc[0].values.reshape(-1, 1), dtype=torch.float32).unsqueeze(0).reshape(1, val_song.shape[1], 1)\n",
    "                val_harmonies = torch.tensor(val_song.iloc[1:].values.T, dtype=torch.float32).unsqueeze(0)\n",
    "                val_harmonies = harmonies_to_class(val_harmonies)  # Convert to class indices\n",
    "                val_harmonies_with_zero = torch.zeros(1, val_song.shape[1], 3)\n",
    "                val_melody_with_empty_harmonies = torch.cat((val_melody, val_harmonies_with_zero), dim=-1)\n",
    "                \n",
    "                # Model prediction\n",
    "                val_output = model(val_melody_with_empty_harmonies)  # Pass the same input as in training\n",
    "                val_output = val_output.reshape(-1, 128)\n",
    "                val_harmonies = val_harmonies.reshape(-1)\n",
    "                \n",
    "                val_loss = criterion(val_output, val_harmonies)  # Calculate validation loss\n",
    "                total_val_loss += val_loss.item()\n",
    "\n",
    "        average_val_loss = total_val_loss / len(validation)\n",
    "        print(f\"Validation Loss after song {song_index + 1}: {average_val_loss}\")"
   ]
  },
  {
   "cell_type": "code",
   "execution_count": null,
   "id": "6c6e6252",
   "metadata": {},
   "outputs": [],
   "source": [
    "def harmonies_to_class(harmonies):\n",
    "    # Assuming harmonies are normalized between 0 and 1, multiply by 127 to get note values, then round.\n",
    "    harmonies_classes = torch.round(harmonies * 127).long()  \n",
    "    return harmonies_classes\n",
    "\n",
    "\n",
    "criterion = torch.nn.CrossEntropyLoss()\n",
    "num_epochs = 100\n",
    "\n",
    "model = Model(4, 3)\n",
    "optimizer = torch.optim.Adam(model.parameters(), lr=0.0001)\n",
    "train_model(model, optimizer, criterion, num_epochs)"
   ]
  },
  {
   "cell_type": "markdown",
   "id": "7234bbe1-0257-4c91-a95f-263342853d92",
   "metadata": {},
   "source": [
    "# Hyperparameter Tuning"
   ]
  },
  {
   "cell_type": "code",
   "execution_count": null,
   "id": "46e1d90b-1d91-4fcc-a156-6edcb721d723",
   "metadata": {},
   "outputs": [],
   "source": [
    "learning = [0.01, .001]\n",
    "n_layers= [1,2,3]\n",
    "hidden_dim = [20, 40, 50]\n",
    "epochs= [5000, 10000]\n",
    "best_loss = float('inf')\n",
    "best_params = {}\n",
    "\n",
    "for LR in learning:\n",
    "    for n_layer in n_layers:\n",
    "        for epoch in epochs:\n",
    "            for dims in hidden_dim:\n",
    "                print(f\"Training with LR={LR} and n_layers={n_layer} and epochs={epoch} and hidden_dims={dims}\")\n",
    "                model = Model(input_size=1, output_size=harmonies.shape[2], n_layers=n_layer, hidden_dim=dims)\n",
    "                optimizer = torch.optim.Adam(model.parameters(), lr=LR)\n",
    "                train_model(model, melody, harmonies, optimizer, criterion, epoch)\n",
    "                with torch.no_grad():\n",
    "                    output = model(melody)\n",
    "                    loss = criterion(output, harmonies)\n",
    "                    print(f\"Final Loss: {loss.item()}\")        \n",
    "                # Keep track of the best model (with lowest loss)\n",
    "                if loss.item() < best_loss:\n",
    "                    best_loss = loss.item()\n",
    "                    best_params = {'learning': LR, 'n_layers': n_layer, 'epochs': epoch, 'hidden_dim': dims}\n",
    "print(\"BEST: \", best_params)"
   ]
  },
  {
   "cell_type": "code",
   "execution_count": 315,
   "id": "9f9e5e39",
   "metadata": {},
   "outputs": [],
   "source": [
    "def inverse_df(df):\n",
    "    X_scaled = df * 127\n",
    "    return X_scaled\n",
    "\n",
    "def midi_to_note_melody(part):\n",
    "    result = stream.Part()\n",
    "    count = 1\n",
    "    prev = round(part[0])\n",
    "    for i in range(1, len(part)):\n",
    "        pitch = part[i]\n",
    "        curr = round(pitch)\n",
    "        if curr == prev:\n",
    "            count += 1\n",
    "        else:\n",
    "            this_note = note.Note(prev, quarterLength=count/4)\n",
    "            result.append(this_note)\n",
    "            count = 1\n",
    "        prev = curr\n",
    "    this_note = note.Note(prev, quarterLength=count/4)\n",
    "    result.append(this_note)\n",
    "    return result\n",
    "\n",
    "def midi_to_note_harmonies(part):\n",
    "    probabilities = torch.softmax(torch.tensor(part), dim=-1).numpy()\n",
    "    result = stream.Part()\n",
    "    count = 1\n",
    "    predicted_notes = np.argmax(part, axis=1) \n",
    "    prev = predicted_notes[0]\n",
    "    for i in range(1, len(part)):\n",
    "        curr = predicted_notes[i]\n",
    "        if curr == prev:\n",
    "            count += 1\n",
    "        else:\n",
    "            this_note = note.Note(prev, quarterLength=count/4)\n",
    "            result.append(this_note)\n",
    "            count = 1\n",
    "        prev = curr\n",
    "    this_note = note.Note(prev, quarterLength=count/4)\n",
    "    result.append(this_note)\n",
    "    return result\n",
    "\n",
    "def output_to_sheet_music(melody, result):\n",
    "    result_numpy = result.squeeze(0).detach().numpy()\n",
    "    melody = inverse_df(melody).squeeze()\n",
    "    inversed = result_numpy.transpose(1, 0, 2) \n",
    "    \n",
    "    score = stream.Score()\n",
    "    melody_part = midi_to_note_melody(melody.numpy())\n",
    "    \n",
    "    alto_notes = inversed[0]\n",
    "    tenor_notes = inversed[1]\n",
    "    bass_notes = inversed[2]  \n",
    "    \n",
    "    alto_part = midi_to_note_harmonies(alto_notes)\n",
    "    tenor_part = midi_to_note_harmonies(tenor_notes)\n",
    "    bass_part = midi_to_note_harmonies(bass_notes)\n",
    "\n",
    "    score.append(melody_part)\n",
    "    score.append(alto_part)\n",
    "    score.append(tenor_part)\n",
    "    score.append(bass_part)\n",
    "    score.show('midi')\n",
    "    score.write('musicxml', 'output.xml')"
   ]
  },
  {
   "cell_type": "code",
   "execution_count": 316,
   "id": "64ca5e31",
   "metadata": {},
   "outputs": [
    {
     "data": {
      "text/html": [
       "\n",
       "        <div id=\"midiPlayerDiv39681\"></div>\n",
       "        <link rel=\"stylesheet\" href=\"https://cuthbertLab.github.io/music21j/css/m21.css\">\n",
       "        \n",
       "        <script\n",
       "        src=\"https://cdnjs.cloudflare.com/ajax/libs/require.js/2.3.6/require.min.js\"\n",
       "        ></script>\n",
       "    \n",
       "        <script>\n",
       "        function midiPlayerDiv39681_play() {\n",
       "            const rq = require.config({\n",
       "                paths: {\n",
       "                    'music21': 'https://cuthbertLab.github.io/music21j/releases/music21.debug',\n",
       "                }\n",
       "            });\n",
       "            rq(['music21'], function(music21) {\n",
       "                mp = new music21.miditools.MidiPlayer();\n",
       "                mp.addPlayer(\"#midiPlayerDiv39681\");\n",
       "                mp.base64Load(\"data:audio/midi;base64,TVRoZAAAAAYAAQAFJ2BNVHJrAAAAFAD/UQMHoSAA/1gEBAIYCM5g/y8ATVRyawAAAVwA/wMAAOAAQM5gkEFagewggEEAAJBAWqcwgEAAAJA+WqcwgD4AAJA8Ws5ggDwAAJBBWs5ggEEAAJBDWs5ggEMAAJBEWoGdQIBEAACQRlrOYIBGAACQRFrOYIBEAACQQ1qBnUCAQwAAkERazmCARAAAkEZazmCARgAAkEhapzCASAAAkEZapzCARgAAkERazmCARAAAkElagZ1AgEkAAJBIWqcwgEgAAJBGWqcwgEYAAJBIWs5ggEgAAJBGWoGdQIBGAACQRFqBnUCARAAAkENazmCAQwAAkEFazmCAQQAAkD9azmCAPwAAkDxapzCAPAAAkD1apzCAPQAAkD9agZ1AgD8AAJBBWs5ggEEAAJA/Ws5ggD8AAJA9WoGdQIA9AACQPFrOYIA8AACQSFrOYIBIAACQRlrOYIBGAACQRFrOYIBEAACQQ1qBnUCAQwAAkEFagrsAgEEAzmD/LwBNVHJrAAAAIQD/AwAA4ABAzmCQO1qTWIA7AACQPFqbxAiAPADOYP8vAE1UcmsAAAAYAP8DAADgAEDOYJA3WpvXYIA3AM5g/y8ATVRyawAAACEA/wMAAOAAQM5gkDJapzCAMgAAkDBam7AwgDAAzmD/LwA=\");\n",
       "            });\n",
       "        }\n",
       "        if (typeof require === 'undefined') {\n",
       "            setTimeout(midiPlayerDiv39681_play, 2000);\n",
       "        } else {\n",
       "            midiPlayerDiv39681_play();\n",
       "        }\n",
       "        </script>"
      ],
      "text/plain": [
       "<IPython.core.display.HTML object>"
      ]
     },
     "metadata": {},
     "output_type": "display_data"
    }
   ],
   "source": [
    "test_song = test[0]\n",
    "melody = test_song.iloc[0]\n",
    "\n",
    "melody = torch.tensor(test_song.iloc[0].values.reshape(-1,1), dtype=torch.float32).unsqueeze(0).reshape(1, test_song.shape[1], 1)\n",
    "harmonies = torch.tensor(test_song.iloc[1:].values.T, dtype=torch.float32).unsqueeze(0)\n",
    "harmonies_with_zero = torch.zeros(1, test_song.shape[1], 3)\n",
    "\n",
    "model_input = torch.cat((melody, harmonies_with_zero), dim = -1)\n",
    "result = model(model_input)\n",
    "output_to_sheet_music(melody, result)"
   ]
  },
  {
   "cell_type": "code",
   "execution_count": 218,
   "id": "c75011af",
   "metadata": {},
   "outputs": [],
   "source": [
    "# Finetune (hyperparameters, move around test data (refer to notes), etc)"
   ]
  },
  {
   "cell_type": "code",
   "execution_count": null,
   "id": "7a19fdf0",
   "metadata": {},
   "outputs": [],
   "source": [
    "# Test with new data + evaluate"
   ]
  },
  {
   "cell_type": "code",
   "execution_count": null,
   "id": "fc27f4af",
   "metadata": {},
   "outputs": [],
   "source": [
    "# Make any other changes"
   ]
  },
  {
   "cell_type": "code",
   "execution_count": null,
   "id": "bc96a58c",
   "metadata": {},
   "outputs": [],
   "source": [
    "# Sheet music + audio (musicAI)"
   ]
  },
  {
   "cell_type": "code",
   "execution_count": null,
   "id": "dad609d2",
   "metadata": {},
   "outputs": [],
   "source": [
    "# Create new models if time permits (follow steps 3 - 7)"
   ]
  },
  {
   "cell_type": "code",
   "execution_count": null,
   "id": "eb5a3b48",
   "metadata": {},
   "outputs": [],
   "source": [
    "# Compare models"
   ]
  },
  {
   "cell_type": "code",
   "execution_count": null,
   "id": "095d0ec9",
   "metadata": {},
   "outputs": [],
   "source": [
    "# Front end ** if time permits\n",
    "# - Interactive sheet music\n",
    "# - musescore front end??"
   ]
  },
  {
   "cell_type": "code",
   "execution_count": null,
   "id": "121de9a4",
   "metadata": {},
   "outputs": [],
   "source": [
    "# real one and generated compare\n",
    "# train on all songs + test on a different song\n",
    "# measure the test loss not just the training loss"
   ]
  },
  {
   "cell_type": "code",
   "execution_count": null,
   "id": "a6fb6748",
   "metadata": {},
   "outputs": [],
   "source": [
    "[60, 0, 0, 0] -> [60, 70, 70, 70] -> [61, ]"
   ]
  },
  {
   "cell_type": "code",
   "execution_count": null,
   "id": "f87ba97e",
   "metadata": {},
   "outputs": [],
   "source": []
  }
 ],
 "metadata": {
  "kernelspec": {
   "display_name": "Python 3 (ipykernel)",
   "language": "python",
   "name": "python3"
  },
  "language_info": {
   "codemirror_mode": {
    "name": "ipython",
    "version": 3
   },
   "file_extension": ".py",
   "mimetype": "text/x-python",
   "name": "python",
   "nbconvert_exporter": "python",
   "pygments_lexer": "ipython3",
   "version": "3.11.4"
  }
 },
 "nbformat": 4,
 "nbformat_minor": 5
}
