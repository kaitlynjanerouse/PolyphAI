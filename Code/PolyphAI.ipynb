{
 "cells": [
  {
   "cell_type": "code",
   "execution_count": 1,
   "id": "7d361ffe",
   "metadata": {},
   "outputs": [],
   "source": [
    "# Include necessary imports\n",
    "import os\n",
    "import torch \n",
    "import torch.nn as nn\n",
    "import pandas as pd\n",
    "from torch.utils.data import DataLoader, TensorDataset\n",
    "from music21 import *\n",
    "import numpy as np\n",
    "from sklearn.model_selection import GridSearchCV\n",
    "from sklearn.preprocessing import MinMaxScaler\n",
    "from torch.nn.utils.rnn import pad_sequence\n",
    "from transformers import T5ForConditionalGeneration, T5Tokenizer"
   ]
  },
  {
   "cell_type": "code",
   "execution_count": 2,
   "id": "3c67e7cc",
   "metadata": {},
   "outputs": [],
   "source": [
    "# Preprocess the data\n",
    "\n",
    "# Transpose all valies to the same key\n",
    "def key_transposition(df):\n",
    "    transpose_val = 48 - df.iloc[3][0]\n",
    "    df += transpose_val\n",
    "    return df\n",
    "\n",
    "# Min-Max normalization technique\n",
    "def normalize_df(df):\n",
    "    X_std = df / 127\n",
    "    return X_std\n",
    "\n",
    "folder_path = 'Data/'\n",
    "test = []\n",
    "train = []\n",
    "validation = []\n",
    "for dirname in os.listdir(folder_path):\n",
    "    if dirname != '.DS_Store':\n",
    "        for filename in os.listdir(folder_path + dirname):\n",
    "            if filename != '.ipynb_checkpoints':\n",
    "                df = pd.read_csv(folder_path + dirname + '/' + filename)\n",
    "                transposed_df = key_transposition(df.transpose())\n",
    "                normalized_df = normalize_df(transposed_df)\n",
    "                if dirname == 'test':\n",
    "                    test.append(normalized_df)\n",
    "                if dirname == 'train':\n",
    "                    train.append(normalized_df)\n",
    "                if dirname == 'valid':\n",
    "                    validation.append(normalized_df)"
   ]
  },
  {
   "cell_type": "markdown",
   "id": "d8606521",
   "metadata": {},
   "source": [
    "# Model"
   ]
  },
  {
   "cell_type": "code",
   "execution_count": 74,
   "id": "551e0b42",
   "metadata": {},
   "outputs": [],
   "source": [
    "class Model(torch.nn.Module):\n",
    "    def __init__(self, input_size, output_size, hidden_dim=40, n_layers=2, dropout_rate=.3):\n",
    "        super(Model, self).__init__()\n",
    "        self.hidden_dim = hidden_dim\n",
    "        self.n_layers = n_layers\n",
    "        self.lstm = torch.nn.LSTM(input_size, hidden_dim, n_layers, batch_first=True, dropout=dropout_rate)\n",
    "        self.fc = torch.nn.Linear(hidden_dim, output_size)\n",
    "        self.dropout = torch.nn.Dropout(dropout_rate)\n",
    "#         self.sigmoid = torch.nn.Sigmoid()\n",
    "#         self.soft_max = torch.nn.Softmax(dim=0)\n",
    "#         self.soft_max = torch.nn.Softmax(dim=-1)\n",
    "        \n",
    "    def forward(self, x, hidden=None):\n",
    "        lstm_output, (h,c) = self.lstm(x, hidden)\n",
    "        lstm_output = self.dropout(lstm_output)\n",
    "        model_output = self.fc(lstm_output)\n",
    "        \n",
    "#         model_output = self.sigmoid(model_output)\n",
    "#         print(\"BEFORE: \", model_output)\n",
    "#         model_output = self.soft_max(model_output)\n",
    "        return model_output "
   ]
  },
  {
   "cell_type": "markdown",
   "id": "2d09e503",
   "metadata": {},
   "source": [
    "# Train"
   ]
  },
  {
   "cell_type": "code",
   "execution_count": 202,
   "id": "511051f8",
   "metadata": {},
   "outputs": [],
   "source": [
    "def train_model(model, optimizer, criterion, num_epochs):\n",
    "    model.train()\n",
    "    for song_index, song in enumerate(train[:20]):\n",
    "        print(f\"Training on song {song_index + 1}\")\n",
    "        \n",
    "#         melody = torch.tensor(song.iloc[0].values.reshape(-1, 1), dtype=torch.float32).unsqueeze(0).reshape(1, song.shape[1], 1)\n",
    "        harmonies = torch.tensor(song.iloc[1:].values.T, dtype=torch.float32).unsqueeze(0)\n",
    "        input_song = torch.tensor(song.values.T, dtype=torch.float32).unsqueeze(0)\n",
    "        \n",
    "        for epoch in range(num_epochs):\n",
    "            optimizer.zero_grad()\n",
    "            output = model(input_song)\n",
    "#             output = output.reshape(-1, 3)\n",
    "#             print(\"AFTER: \", inverse_df(output))\n",
    "#             harmonies = harmonies.reshape(-1, 3)\n",
    "            loss = criterion(output, harmonies)\n",
    "            loss.backward()\n",
    "            optimizer.step()\n",
    "\n",
    "            if (epoch + 1) % 100 == 0:\n",
    "                print(f\"Song {song_index + 1}, Epoch {epoch + 1}/{num_epochs}, Loss: {loss.item()}\")\n",
    "                if torch.isnan(loss):\n",
    "                    print(\"harmonies: \", harmonies)\n",
    "                    print(\"melody:\" , melody)\n",
    "                    print(\"output: \", output)\n",
    "                    \n",
    "\n",
    "        model.eval()\n",
    "        total_val_loss = 0\n",
    "        \n",
    "        # validation songs\n",
    "        with torch.no_grad():\n",
    "            for val_song in validation:\n",
    "#                 val_melody = torch.tensor(val_song.iloc[0].values.reshape(-1, 1), dtype=torch.float32).unsqueeze(0).reshape(1, val_song.shape[1], 1)\n",
    "                val_harmonies = torch.tensor(val_song.iloc[1:].values.T, dtype=torch.float32).unsqueeze(0)\n",
    "#                 input_song = torch.tensor(song.values.T, dtype=torch.float32).unsqueeze(0)\n",
    "                val_input_song = torch.tensor(val_song.values.T, dtype=torch.float32).unsqueeze(0)\n",
    "                \n",
    "                val_output = model(val_input_song)\n",
    "#                 val_output = val_output.reshape(-1, 3)\n",
    "#                 val_harmonies = val_harmonies.reshape(-1, 3)\n",
    "                \n",
    "                val_loss = criterion(val_output, val_harmonies)\n",
    "                total_val_loss += val_loss.item()\n",
    "\n",
    "        average_val_loss = total_val_loss / len(validation)\n",
    "        print(f\"Validation Loss after song {song_index + 1}: {average_val_loss}\")"
   ]
  },
  {
   "cell_type": "code",
   "execution_count": null,
   "id": "6c6e6252",
   "metadata": {},
   "outputs": [
    {
     "name": "stdout",
     "output_type": "stream",
     "text": [
      "Training on song 1\n",
      "Song 1, Epoch 100/1000, Loss: 0.15674713253974915\n",
      "Song 1, Epoch 200/1000, Loss: 0.020115796476602554\n",
      "Song 1, Epoch 300/1000, Loss: 0.018216708675026894\n",
      "Song 1, Epoch 400/1000, Loss: 0.01497104112058878\n",
      "Song 1, Epoch 500/1000, Loss: 0.01275570411235094\n",
      "Song 1, Epoch 600/1000, Loss: 0.013496916741132736\n",
      "Song 1, Epoch 700/1000, Loss: 0.011644400656223297\n",
      "Song 1, Epoch 800/1000, Loss: 0.010620885528624058\n",
      "Song 1, Epoch 900/1000, Loss: 0.010854304768145084\n",
      "Song 1, Epoch 1000/1000, Loss: 0.009199227206408978\n",
      "Validation Loss after song 1: 0.007639953723320594\n",
      "Training on song 2\n",
      "Song 2, Epoch 100/1000, Loss: 0.0022337327245622873\n",
      "Song 2, Epoch 200/1000, Loss: 0.0021603049244731665\n",
      "Song 2, Epoch 300/1000, Loss: 0.0020873937755823135\n",
      "Song 2, Epoch 400/1000, Loss: 0.002015253296121955\n",
      "Song 2, Epoch 500/1000, Loss: 0.0019441982731223106\n",
      "Song 2, Epoch 600/1000, Loss: 0.001874652341939509\n",
      "Song 2, Epoch 700/1000, Loss: 0.0018071774393320084\n",
      "Song 2, Epoch 800/1000, Loss: 0.001742428750731051\n"
     ]
    }
   ],
   "source": [
    "criterion = torch.nn.MSELoss()\n",
    "num_epochs = 1000\n",
    "\n",
    "model = Model(4, 3)\n",
    "optimizer = torch.optim.Adam(model.parameters(), lr=0.0001)\n",
    "train_model(model, optimizer, criterion, num_epochs)"
   ]
  },
  {
   "cell_type": "code",
   "execution_count": 115,
   "id": "443f771f",
   "metadata": {},
   "outputs": [
    {
     "data": {
      "text/plain": [
       "<All keys matched successfully>"
      ]
     },
     "execution_count": 115,
     "metadata": {},
     "output_type": "execute_result"
    }
   ],
   "source": []
  },
  {
   "cell_type": "markdown",
   "id": "7234bbe1-0257-4c91-a95f-263342853d92",
   "metadata": {},
   "source": [
    "# Hyperparameter Tuning"
   ]
  },
  {
   "cell_type": "code",
   "execution_count": null,
   "id": "46e1d90b-1d91-4fcc-a156-6edcb721d723",
   "metadata": {},
   "outputs": [],
   "source": [
    "learning = [0.01, .001]\n",
    "n_layers= [1,2,3]\n",
    "hidden_dim = [20, 40, 50]\n",
    "epochs= [5000, 10000]\n",
    "best_loss = float('inf')\n",
    "best_params = {}\n",
    "\n",
    "for LR in learning:\n",
    "    for n_layer in n_layers:\n",
    "        for epoch in epochs:\n",
    "            for dims in hidden_dim:\n",
    "                print(f\"Training with LR={LR} and n_layers={n_layer} and epochs={epoch} and hidden_dims={dims}\")\n",
    "                model = Model(input_size=1, output_size=harmonies.shape[2], n_layers=n_layer, hidden_dim=dims)\n",
    "                optimizer = torch.optim.Adam(model.parameters(), lr=LR)\n",
    "                train_model(model, melody, harmonies, optimizer, criterion, epoch)\n",
    "                with torch.no_grad():\n",
    "                    output = model(melody)\n",
    "                    loss = criterion(output, harmonies)\n",
    "                    print(f\"Final Loss: {loss.item()}\")        \n",
    "                # Keep track of the best model (with lowest loss)\n",
    "                if loss.item() < best_loss:\n",
    "                    best_loss = loss.item()\n",
    "                    best_params = {'learning': LR, 'n_layers': n_layer, 'epochs': epoch, 'hidden_dim': dims}\n",
    "print(\"BEST: \", best_params)"
   ]
  },
  {
   "cell_type": "code",
   "execution_count": 195,
   "id": "9f9e5e39",
   "metadata": {},
   "outputs": [],
   "source": [
    "def inverse_df(df):\n",
    "    X_scaled = df * 127\n",
    "    return X_scaled\n",
    "\n",
    "def midi_to_note(part):\n",
    "    result = stream.Part()\n",
    "    count = 1\n",
    "    prev = round(part[0])\n",
    "    for i in range(1, len(part)):\n",
    "        pitch = part[i]\n",
    "        curr = round(pitch)\n",
    "        if curr == prev:\n",
    "            count += 1\n",
    "        else:\n",
    "            this_note = note.Note(prev, quarterLength=count/4)\n",
    "            result.append(this_note)\n",
    "            count = 1\n",
    "        prev = curr\n",
    "    this_note = note.Note(prev, quarterLength=count/4)\n",
    "    result.append(this_note)\n",
    "    return result\n",
    "\n",
    "def output_to_sheet_music(melody, result):\n",
    "    result_numpy = result.detach().numpy()\n",
    "    melody = inverse_df(melody).squeeze()\n",
    "    inversed = inverse_df(np.squeeze(result_numpy)).T\n",
    "    \n",
    "    score = stream.Score()\n",
    "    melody_part = midi_to_note(melody.numpy())\n",
    "    \n",
    "    alto_notes = inversed[0]\n",
    "    tenor_notes = inversed[1]\n",
    "    bass_notes = inversed[2]  \n",
    "    \n",
    "    alto_part = midi_to_note(alto_notes)\n",
    "    tenor_part = midi_to_note(tenor_notes)\n",
    "    bass_part = midi_to_note(bass_notes)\n",
    "\n",
    "    score.append(melody_part)\n",
    "    score.append(alto_part)\n",
    "    score.append(tenor_part)\n",
    "    score.append(bass_part)\n",
    "    score.show('midi')\n",
    "    score.write('musicxml', 'output.xml')"
   ]
  },
  {
   "cell_type": "code",
   "execution_count": 201,
   "id": "64ca5e31",
   "metadata": {},
   "outputs": [
    {
     "name": "stdout",
     "output_type": "stream",
     "text": [
      "<music21.stream.Part 0x15e5b4190>\n"
     ]
    },
    {
     "data": {
      "text/html": [
       "\n",
       "        <div id=\"midiPlayerDiv138484\"></div>\n",
       "        <link rel=\"stylesheet\" href=\"https://cuthbertLab.github.io/music21j/css/m21.css\">\n",
       "        \n",
       "        <script\n",
       "        src=\"https://cdnjs.cloudflare.com/ajax/libs/require.js/2.3.6/require.min.js\"\n",
       "        ></script>\n",
       "    \n",
       "        <script>\n",
       "        function midiPlayerDiv138484_play() {\n",
       "            const rq = require.config({\n",
       "                paths: {\n",
       "                    'music21': 'https://cuthbertLab.github.io/music21j/releases/music21.debug',\n",
       "                }\n",
       "            });\n",
       "            rq(['music21'], function(music21) {\n",
       "                mp = new music21.miditools.MidiPlayer();\n",
       "                mp.addPlayer(\"#midiPlayerDiv138484\");\n",
       "                mp.base64Load(\"data:audio/midi;base64,TVRoZAAAAAYAAQAFJ2BNVHJrAAAAFAD/UQMHoSAA/1gEBAIYCM5g/y8ATVRyawAAAVwA/wMAAOAAQM5gkDxagewggDwAAJA7WqcwgDsAAJA5WqcwgDkAAJA3Ws5ggDcAAJA8Ws5ggDwAAJA+Ws5ggD4AAJA/WoGdQIA/AACQQVrOYIBBAACQP1rOYIA/AACQPlqBnUCAPgAAkD9azmCAPwAAkEFazmCAQQAAkENapzCAQwAAkEFapzCAQQAAkD9azmCAPwAAkERagZ1AgEQAAJBDWqcwgEMAAJBBWqcwgEEAAJBDWs5ggEMAAJBBWoGdQIBBAACQP1qBnUCAPwAAkD5azmCAPgAAkDxazmCAPAAAkDpazmCAOgAAkDdapzCANwAAkDhapzCAOAAAkDpagZ1AgDoAAJA8Ws5ggDwAAJA6Ws5ggDoAAJA4WoGdQIA4AACQN1rOYIA3AACQQ1rOYIBDAACQQVrOYIBBAACQP1rOYIA/AACQPlqBnUCAPgAAkDxagrsAgDwAzmD/LwBNVHJrAAAGPgD/AwAA4ABAzmCQHlqTWIAeAACQJ1qTWIAnAACQNVqTWIA1AACQHVqTWIAdAACQGFqTWIAYAACQIlqTWIAiAACQG1qTWIAbAACQEFqTWIAQAACQQ1qTWIBDAACQPFqTWIA8AACQHlqTWIAeAACQQ1qTWIBDAACQRlqTWIBGAACQDVqTWIANAACQQ1qTWIBDAACQElqTWIASAACQPVqTWIA9AACQEVqTWIARAACQDVqTWIANAACQRVqTWIBFAACQD1qTWIAPAACQEVqTWIARAACQQ1qTWIBDAACQPVqTWIA9AACQRVqTWIBFAACQFlqTWIAWAACQR1qTWIBHAACQE1qTWIATAACQIFqTWIAgAACQQFqTWIBAAACQRlqTWIBGAACQHFqTWIAcAACQEFqTWIAQAACQE1qTWIATAACQJVqTWIAlAACQEFqTWIAQAACQFVqTWIAVAACQPFqTWIA8AACQG1qTWIAbAACQFVqTWIAVAACQQVqTWIBBAACQFVqTWIAVAACQK1qTWIArAACQRFqTWIBEAACQJFqTWIAkAACQQlqTWIBCAACQJ1qTWIAnAACQDFqTWIAMAACQGlqTWIAaAACQQFqTWIBAAACQFFqTWIAUAACQEVqTWIARAACQG1qTWIAbAACQFFqTWIAUAACQFlqTWIAWAACQH1qTWIAfAACQQ1qTWIBDAACQFFqTWIAUAACQQlqTWIBCAACQQVqTWIBBAACQFlqTWIAWAACQE1qTWIATAACQI1qTWIAjAACQRFqTWIBEAACQRlqTWIBGAACQQVqTWIBBAACQPlqTWIA+AACQPFqTWIA8AACQP1qTWIA/AACQQVqTWIBBAACQQ1qTWIBDAACQPVqTWIA9AACQRVqTWIBFAACQDFqTWIAMAACQEVqTWIARAACQJVqTWIAlAACQF1qTWIAXAACQGVqTWIAZAACQRlqTWIBGAACQRFqTWIBEAACQRlqTWIBGAACQEFqTWIAQAACQIFqTWIAgAACQHVqTWIAdAACQFFqTWIAUAACQDFqTWIAMAACQElqTWIASAACQJlqTWIAmAACQR1qTWIBHAACQDFqTWIAMAACQRVqTWIBFAACQDFqTWIAMAACQQ1qTWIBDAACQGFqTWIAYAACQRFqTWIBEAACQGlqTWIAaAACQP1qTWIA/AACQFlqTWIAWAACQEVqTWIARAACQRFqTWIBEAACQRlqTWIBGAACQD1qTWIAPAACQPVqTWIA9AACQGVqTWIAZAACQElqTWIASAACQQFqTWIBAAACQDVqTWIANAACQGVqTWIAZAACQPlqTWIA+AACQQ1qTWIBDAACQD1qTWIAPAACQFVqTWIAVAACQRFqTWIBEAACQDVqTWIANAACQQVqTWIBBAACQElqTWIASAACQRFqTWIBEAACQG1qTWIAbAACQF1qTWIAXAACQPFqTWIA8AACQPlqTWIA+AACQGFqTWIAYAACQJFqTWIAkAACQHFqTWIAcAACQDlqTWIAOAACQJVqTWIAlAACQElqTWIASAACQRVqTWIBFAACQPFqTWIA8AACQDFqTWIAMAACQL1qTWIAvAACQFlqTWIAWAACQMVqTWIAxAACQKlqTWIAqAACQR1qTWIBHAACQDVqTWIANAACQQFqTWIBAAACQRlqTWIBGAACQDlqTWIAOAACQGVqTWIAZAACQGFqTWIAYAACQI1qTWIAjAACQJFqTWIAkAACQE1qTWIATAACQPlqTWIA+AACQRlq7CIBGAACQD1qTWIAPAACQRlqTWIBGAACQIVqTWIAhAACQHlqTWIAeAACQPFqTWIA8AACQRlqTWIBGAACQQFqTWIBAAACQD1qTWIAPAACQQFqTWIBAAACQDFqTWIAMAACQKVqTWIApAACQFFqTWIAUAACQPlqnMIA+AACQJVqTWIAlAACQFVqTWIAVAACQQlqnMIBCAACQFlqTWIAWAACQHVqTWIAdAACQFVqTWIAVAACQRVqTWIBFAACQR1qTWIBHAACQQ1qTWIBDAACQIlqTWIAiAACQRlqTWIBGAACQRFqTWIBEAACQD1qTWIAPAACQGlqTWIAaAACQQlqTWIBCAACQElqTWIASAACQGlqTWIAaAM5g/y8ATVRyawAABlAA/wMAAOAAQM5gkB9ak1iAHwAAkCRak1iAJAAAkC5ak1iALgAAkBlak1iAGQAAkBZak1iAFgAAkCZak1iAJgAAkCFak1iAIQAAkA5ak1iADgAAkEFak1iAQQAAkENak1iAQwAAkBxak1iAHAAAkEBak1iAQAAAkD9ak1iAPwAAkEdak1iARwAAkD1ak1iAPQAAkEZak1iARgAAkERak1iARAAAkDxak1iAPAAAkEFak1iAQQAAkERak1iARAAAkERak1iARAAAkEZak1iARgAAkEdak1iARwAAkEJak1iAQgAAkD1ak1iAPQAAkA1ak1iADQAAkEJak1iAQgAAkEJak1iAQgAAkEVak1iARQAAkEFak1iAQQAAkD9ak1iAPwAAkA1ak1iADQAAkBBak1iAEAAAkBFak1iAEQAAkEdak1iARwAAkD9ak1iAPwAAkD9ak1iAPwAAkD1ak1iAPQAAkERak1iARAAAkBVak1iAFQAAkEJak1iAQgAAkBZak1iAFgAAkBJak1iAEgAAkD1ak1iAPQAAkBBak1iAEAAAkEFak1iAQQAAkA5ak1iADgAAkD5ak1iAPgAAkAxak1iADAAAkDxak1iAPAAAkEFak1iAQQAAkEBak1iAQAAAkEJak1iAQgAAkERak1iARAAAkERak1iARAAAkB1ak1iAHQAAkENak1iAQwAAkBNak1iAEwAAkD5ak1iAPgAAkEJak1iAQgAAkA1ak1iADQAAkD9ak1iAPwAAkBdak1iAFwAAkEJak1iAQgAAkD9ak1iAPwAAkEZak1iARgAAkEFak1iAQQAAkEZak1iARgAAkEFak1iAQQAAkERak1iARAAAkD5ak1iAPgAAkEFak1iAQQAAkDxak1iAPAAAkEBak1iAQAAAkBJapzCAEgAAkDxak1iAPAAAkD9ak1iAPwAAkD9ak1iAPwAAkD5ak1iAPgAAkD9ak1iAPwAAkERak1iARAAAkBVak1iAFQAAkBZapzCAFgAAkBJak1iAEgAAkEdak1iARwAAkAxak1iADAAAkEZak1iARgAAkDxak1iAPAAAkEdak1iARwAAkD5ak1iAPgAAkDxak1iAPAAAkBZak1iAFgAAkD5ak1iAPgAAkBBak1iAEAAAkENak1iAQwAAkERak1iARAAAkDxak1iAPAAAkEFak1iAQQAAkEVak1iARQAAkEdak1iARwAAkEBak1iAQAAAkEJak1iAQgAAkEZak1iARgAAkEBak1iAQAAAkEVak1iARQAAkERak1iARAAAkD9ak1iAPwAAkEZak1iARgAAkBBak1iAEAAAkAxak1iADAAAkEJak1iAQgAAkEFak1iAQQAAkEdak1iARwAAkEJak1iAQgAAkEVak1iARQAAkEBak1iAQAAAkEdak1iARwAAkEdak1iARwAAkENak1iAQwAAkEdak1iARwAAkBhak1iAGAAAkBZak1iAFgAAkDxak1iAPAAAkBtak1iAGwAAkEdak1iARwAAkD9ak1iAPwAAkEdak1iARwAAkEFak1iAQQAAkBBak1iAEAAAkERak1iARAAAkBtak1iAGwAAkBxak1iAHAAAkD1ak1iAPQAAkA9ak1iADwAAkEFak1iAQQAAkERak1iARAAAkDxak1iAPAAAkBVak1iAFQAAkERak1iARAAAkEVak1iARQAAkBFak1iAEQAAkA1ak1iADQAAkEFak1iAQQAAkDxak1iAPAAAkEFak1iAQQAAkDxak1iAPAAAkEJak1iAQgAAkEdak1iARwAAkBdak1iAFwAAkBVak1iAFQAAkENak1iAQwAAkEZak1iARgAAkEVak1iARQAAkEBak1iAQAAAkD5ak1iAPgAAkERak1iARAAAkEdak1iARwAAkBRak1iAFAAAkEZak1iARgAAkEJak1iAQgAAkEdak1iARwAAkEZak1iARgAAkBBak1iAEAAAkERak1iARAAAkEBak1iAQAAAkEBak1iAQAAAkEFak1iAQQAAkEVak1iARQAAkD1ak1iAPQAAkENak1iAQwAAkBJak1iAEgAAkD9ak1iAPwAAkEBak1iAQAAAkEVak1iARQAAkBlak1iAGQAAkEVak1iARQAAkA1ak1iADQAAkEZak1iARgDOYP8vAE1UcmsAAAY+AP8DAADgAEDOYJAfWpNYgB8AAJAqWpNYgCoAAJAmWpNYgCYAAJAcWpNYgBwAAJAeWpNYgB4AAJAPWpNYgA8AAJBCWpNYgEIAAJA/WpNYgD8AAJAXWpNYgBcAAJBAWpNYgEAAAJAdWpNYgB0AAJAQWpNYgBAAAJA8WpNYgDwAAJBCWpNYgEIAAJBAWpNYgEAAAJBDWpNYgEMAAJBCWpNYgEIAAJBBWpNYgEEAAJBDWpNYgEMAAJBFWpNYgEUAAJBFWpNYgEUAAJA8WpNYgDwAAJBHWpNYgEcAAJA8WpNYgDwAAJBEWpNYgEQAAJAUWpNYgBQAAJBDWpNYgEMAAJAXWpNYgBcAAJAVWpNYgBUAAJAfWpNYgB8AAJBCWpNYgEIAAJANWpNYgA0AAJBFWpNYgEUAAJBHWpNYgEcAAJBBWpNYgEEAAJA9WpNYgD0AAJBFWpNYgEUAAJBGWqcwgEYAAJBEWpNYgEQAAJA8WpNYgDwAAJBEWpNYgEQAAJBEWpNYgEQAAJA/WpNYgD8AAJA9WpNYgD0AAJBCWpNYgEIAAJBDWpNYgEMAAJBCWpNYgEIAAJAbWpNYgBsAAJBEWpNYgEQAAJBDWpNYgEMAAJBGWpNYgEYAAJBGWpNYgEYAAJBBWpNYgEEAAJAOWpNYgA4AAJAUWpNYgBQAAJBBWpNYgEEAAJAPWpNYgA8AAJA9WpNYgD0AAJA/WpNYgD8AAJA/WpNYgD8AAJBEWpNYgEQAAJBGWpNYgEYAAJBCWpNYgEIAAJBBWpNYgEEAAJA8WpNYgDwAAJBFWpNYgEUAAJBBWpNYgEEAAJBAWpNYgEAAAJA9WpNYgD0AAJA+WpNYgD4AAJBCWpNYgEIAAJBFWpNYgEUAAJA/WpNYgD8AAJBGWpNYgEYAAJAMWpNYgAwAAJA+WpNYgD4AAJA+WpNYgD4AAJBDWpNYgEMAAJASWpNYgBIAAJBCWpNYgEIAAJBBWpNYgEEAAJBCWpNYgEIAAJA+WpNYgD4AAJA+WpNYgD4AAJAXWpNYgBcAAJA9WpNYgD0AAJARWpNYgBEAAJBDWpNYgEMAAJA8WpNYgDwAAJA8WpNYgDwAAJBHWpNYgEcAAJBDWpNYgEMAAJA8WpNYgDwAAJBGWqcwgEYAAJBDWpNYgEMAAJAQWpNYgBAAAJA8WpNYgDwAAJBBWpNYgEEAAJA8WpNYgDwAAJAXWpNYgBcAAJBDWpNYgEMAAJBBWpNYgEEAAJBAWpNYgEAAAJA8WpNYgDwAAJBFWpNYgEUAAJBGWpNYgEYAAJBHWpNYgEcAAJBAWpNYgEAAAJANWpNYgA0AAJASWpNYgBIAAJAVWqcwgBUAAJAfWpNYgB8AAJBAWpNYgEAAAJBHWpNYgEcAAJAYWpNYgBgAAJASWpNYgBIAAJBGWpNYgEYAAJBBWpNYgEEAAJBGWpNYgEYAAJA9WpNYgD0AAJATWpNYgBMAAJBDWpNYgEMAAJAhWpNYgCEAAJAPWpNYgA8AAJA+WpNYgD4AAJBFWpNYgEUAAJA/WpNYgD8AAJAUWpNYgBQAAJBAWpNYgEAAAJAeWpNYgB4AAJAVWpNYgBUAAJA/WqcwgD8AAJBEWpNYgEQAAJA/WpNYgD8AAJATWpNYgBMAAJAsWpNYgCwAAJAcWpNYgBwAAJASWpNYgBIAAJANWpNYgA0AAJBFWpNYgEUAAJA/WpNYgD8AAJBGWpNYgEYAAJASWpNYgBIAAJANWpNYgA0AAJARWpNYgBEAAJA/WpNYgD8AAJAMWpNYgAwAAJBHWpNYgEcAAJBBWpNYgEEAAJBAWpNYgEAAAJA8WpNYgDwAAJA/WpNYgD8AAJA8WpNYgDwAAJAXWpNYgBcAAJAbWpNYgBsAAJARWpNYgBEAAJAMWpNYgAwAAJBBWpNYgEEAAJBAWpNYgEAAAJATWpNYgBMAAJAmWpNYgCYAAJBCWpNYgEIAAJA9WpNYgD0AAJAdWpNYgB0AAJBFWpNYgEUAAJBAWpNYgEAAAJA/WpNYgD8AAJA/WpNYgD8AAJAhWpNYgCEAAJBHWpNYgEcAAJBFWpNYgEUAAJBFWpNYgEUAAJAbWpNYgBsAAJAPWpNYgA8AAJBCWpNYgEIAAJAUWpNYgBQAzmD/LwA=\");\n",
       "            });\n",
       "        }\n",
       "        if (typeof require === 'undefined') {\n",
       "            setTimeout(midiPlayerDiv138484_play, 2000);\n",
       "        } else {\n",
       "            midiPlayerDiv138484_play();\n",
       "        }\n",
       "        </script>"
      ],
      "text/plain": [
       "<IPython.core.display.HTML object>"
      ]
     },
     "metadata": {},
     "output_type": "display_data"
    }
   ],
   "source": [
    "test_song = test[0]\n",
    "melody = test_song.iloc[0]\n",
    "\n",
    "harmonies_with_zero = torch.zeros(1, 180, 3)\n",
    "melody = torch.tensor(test_song.iloc[0].values.reshape(-1,1), dtype=torch.float32).unsqueeze(0)\n",
    "harmonies = torch.tensor(test_song.iloc[1:].values.T, dtype=torch.float32).unsqueeze(0)\n",
    "model_input = torch.cat((melody, harmonies_with_zero), dim = -1)\n",
    "# songgg = torch.tensor(test_song.values.T, dtype=torch.float32).unsqueeze(0)\n",
    "result = model(model_input)\n",
    "output_to_sheet_music(melody, result)"
   ]
  },
  {
   "cell_type": "code",
   "execution_count": 140,
   "id": "c75011af",
   "metadata": {},
   "outputs": [],
   "source": [
    "# Finetune (hyperparameters, move around test data (refer to notes), etc)"
   ]
  },
  {
   "cell_type": "code",
   "execution_count": null,
   "id": "7a19fdf0",
   "metadata": {},
   "outputs": [],
   "source": [
    "# Test with new data + evaluate"
   ]
  },
  {
   "cell_type": "code",
   "execution_count": null,
   "id": "fc27f4af",
   "metadata": {},
   "outputs": [],
   "source": [
    "# Make any other changes"
   ]
  },
  {
   "cell_type": "code",
   "execution_count": null,
   "id": "bc96a58c",
   "metadata": {},
   "outputs": [],
   "source": [
    "# Sheet music + audio (musicAI)"
   ]
  },
  {
   "cell_type": "code",
   "execution_count": null,
   "id": "dad609d2",
   "metadata": {},
   "outputs": [],
   "source": [
    "# Create new models if time permits (follow steps 3 - 7)"
   ]
  },
  {
   "cell_type": "code",
   "execution_count": null,
   "id": "eb5a3b48",
   "metadata": {},
   "outputs": [],
   "source": [
    "# Compare models"
   ]
  },
  {
   "cell_type": "code",
   "execution_count": null,
   "id": "095d0ec9",
   "metadata": {},
   "outputs": [],
   "source": [
    "# Front end ** if time permits\n",
    "# - Interactive sheet music\n",
    "# - musescore front end??"
   ]
  },
  {
   "cell_type": "code",
   "execution_count": null,
   "id": "121de9a4",
   "metadata": {},
   "outputs": [],
   "source": [
    "# real one and generated compare\n",
    "# train on all songs + test on a different song\n",
    "# measure the test loss not just the training loss"
   ]
  },
  {
   "cell_type": "code",
   "execution_count": null,
   "id": "a6fb6748",
   "metadata": {},
   "outputs": [],
   "source": [
    "[60, 0, 0, 0] -> [60, 70, 70, 70] -> [61, ]"
   ]
  },
  {
   "cell_type": "code",
   "execution_count": null,
   "id": "f87ba97e",
   "metadata": {},
   "outputs": [],
   "source": []
  }
 ],
 "metadata": {
  "kernelspec": {
   "display_name": "Python 3 (ipykernel)",
   "language": "python",
   "name": "python3"
  },
  "language_info": {
   "codemirror_mode": {
    "name": "ipython",
    "version": 3
   },
   "file_extension": ".py",
   "mimetype": "text/x-python",
   "name": "python",
   "nbconvert_exporter": "python",
   "pygments_lexer": "ipython3",
   "version": "3.11.4"
  }
 },
 "nbformat": 4,
 "nbformat_minor": 5
}
