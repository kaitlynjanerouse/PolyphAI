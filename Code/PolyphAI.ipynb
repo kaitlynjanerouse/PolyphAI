{
 "cells": [
  {
   "cell_type": "code",
   "execution_count": 9,
   "id": "7d361ffe",
   "metadata": {},
   "outputs": [],
   "source": [
    "# Include necessary imports\n",
    "import os\n",
    "import torch \n",
    "import pandas as pd\n",
    "from torch.utils.data import DataLoader\n",
    "from music21 import *\n",
    "import numpy as np\n",
    "from sklearn.model_selection import GridSearchCV\n",
    "from sklearn.preprocessing import MinMaxScaler\n",
    "from torch.nn.utils.rnn import pad_sequence"
   ]
  },
  {
   "cell_type": "code",
   "execution_count": 10,
   "id": "3c67e7cc",
   "metadata": {},
   "outputs": [],
   "source": [
    "# Preprocess the data\n",
    "\n",
    "folder_path = 'Data/'\n",
    "test = []\n",
    "train = []\n",
    "validation = []\n",
    "for dirname in os.listdir(folder_path):\n",
    "    if dirname != '.DS_Store':\n",
    "        for filename in os.listdir(folder_path + dirname):\n",
    "            if filename != '.ipynb_checkpoints':\n",
    "                df = pd.read_csv(folder_path + dirname + '/' + filename)\n",
    "                transposed_df = df.transpose()\n",
    "                if dirname == 'test':\n",
    "                    test.append(transposed_df)\n",
    "                if dirname == 'train':\n",
    "                    train.append(transposed_df)\n",
    "                if dirname == 'valid':\n",
    "                    validation.append(transposed_df)"
   ]
  },
  {
   "cell_type": "markdown",
   "id": "d8606521",
   "metadata": {},
   "source": [
    "# Model"
   ]
  },
  {
   "cell_type": "code",
   "execution_count": 15,
   "id": "551e0b42",
   "metadata": {},
   "outputs": [],
   "source": [
    "class Model(torch.nn.Module):\n",
    "    def __init__(self, input_size, output_size, hidden_dim=40, n_layers=2, dropout_rate=.5):\n",
    "        super(Model, self).__init__()\n",
    "        self.hidden_dim = hidden_dim\n",
    "        self.n_layers = n_layers\n",
    "        self.lstm = torch.nn.LSTM(input_size, hidden_dim, n_layers, batch_first=True, dropout=dropout_rate)\n",
    "        self.fc = torch.nn.Linear(hidden_dim, output_size)\n",
    "        self.dropout = torch.nn.Dropout(dropout_rate)\n",
    "        \n",
    "    def forward(self, x, hidden=None):\n",
    "        lstm_output, (h,c) = self.lstm(x, hidden)\n",
    "        lstm_output = self.dropout(lstm_output)\n",
    "        model_output = self.fc(lstm_output)\n",
    "        return model_output"
   ]
  },
  {
   "cell_type": "markdown",
   "id": "2d09e503",
   "metadata": {},
   "source": [
    "# Train"
   ]
  },
  {
   "cell_type": "code",
   "execution_count": 32,
   "id": "511051f8",
   "metadata": {},
   "outputs": [],
   "source": [
    "# def train_model(model, optimizer, criterion, num_epochs):\n",
    "#     for epoch in range(num_epochs):\n",
    "#         model.train()\n",
    "#         for song in train:\n",
    "#             song = key_transposition(song)\n",
    "#             melody = torch.tensor(normalize_array(song.iloc[0].values.reshape(-1,1)), dtype=torch.float32).unsqueeze(0).reshape(1,song.shape[1],1)\n",
    "#             harmonies = torch.tensor(normalize_array(song.iloc[1:].values.T), dtype=torch.float32).unsqueeze(0)\n",
    "       \n",
    "#             optimizer.zero_grad()\n",
    "#             output = model(train_melody)\n",
    "#             loss = criterion(output, train_harmonies)\n",
    "#             loss.backward()\n",
    "#             optimizer.step()\n",
    "#             model.eval()\n",
    "        \n",
    "#         with torch.no_grad(): \n",
    "#             val_output = model(val_melody) \n",
    "#             val_loss = criterion(val_output, val_harmonies)\n",
    "            \n",
    "#         if (epoch + 1) % 100 == 0:\n",
    "#             print(\"Epoch: \", epoch, \"Loss: \", loss, \"Validation Loss: \", val_loss)\n",
    "            \n",
    "def key_transposition(array):\n",
    "    transpose_val = 48 - array.iloc[3][0]\n",
    "    array += transpose_val\n",
    "    return array\n",
    "\n",
    "# Min-Max normalization technique\n",
    "def normalize_array(array):\n",
    "    X_std = (array - 1) / (88 - 1)\n",
    "    return X_std       \n",
    "            \n",
    "def train_model(model, optimizer, criterion, num_epochs):\n",
    "    # Iterate through the training songs\n",
    "    for song_index, song in enumerate(train):\n",
    "        print(f\"Training on song {song_index + 1}\")\n",
    "        song = key_transposition(song)\n",
    "        \n",
    "        melody = torch.tensor(normalize_array(song.iloc[0].values.reshape(-1, 1)), dtype=torch.float32).unsqueeze(0).reshape(1, song.shape[1], 1)\n",
    "        harmonies = torch.tensor(normalize_array(song.iloc[1:].values.T), dtype=torch.float32).unsqueeze(0)\n",
    "\n",
    "        for epoch in range(num_epochs):\n",
    "            model.train()\n",
    "            optimizer.zero_grad()\n",
    "            output = model(melody)\n",
    "            loss = criterion(output, harmonies)\n",
    "            loss.backward()\n",
    "            optimizer.step()\n",
    "\n",
    "            if (epoch + 1) % 100 == 0:\n",
    "                print(f\"Song {song_index + 1}, Epoch {epoch + 1}/{num_epochs}, Loss: {loss.item()}\")\n",
    "\n",
    "        model.eval()\n",
    "        total_val_loss = 0\n",
    "\n",
    "        with torch.no_grad():\n",
    "            for val_song in validation:\n",
    "                val_song = key_transposition(val_song)\n",
    "                val_melody = torch.tensor(normalize_array(val_song.iloc[0].values.reshape(-1, 1)), dtype=torch.float32).unsqueeze(0).reshape(1, val_song.shape[1], 1)\n",
    "                val_harmonies = torch.tensor(normalize_array(val_song.iloc[1:].values.T), dtype=torch.float32).unsqueeze(0)\n",
    "                \n",
    "                val_output = model(val_melody)\n",
    "                val_loss = criterion(val_output, val_harmonies)\n",
    "                total_val_loss += val_loss.item()\n",
    "\n",
    "        average_val_loss = total_val_loss / len(validation)\n",
    "        print(f\"Validation Loss after song {song_index + 1}: {average_val_loss}\")"
   ]
  },
  {
   "cell_type": "code",
   "execution_count": null,
   "id": "6c6e6252",
   "metadata": {},
   "outputs": [
    {
     "name": "stdout",
     "output_type": "stream",
     "text": [
      "Training on song 1\n"
     ]
    }
   ],
   "source": [
    "criterion = torch.nn.MSELoss()\n",
    "num_epochs = 5000\n",
    "index = 0\n",
    "model = Model(1, 3)\n",
    "optimizer = torch.optim.Adam(model.parameters(), lr=0.01)\n",
    "\n",
    "train_model(model, optimizer, criterion, num_epochs)\n",
    "\n",
    "# for song in train[:10]:\n",
    "#     index = index + 1\n",
    "#     print(\"song\", index)\n",
    "#     song = key_transposition(song)\n",
    "# #     song = train[0] # REMOVE\n",
    "#     melody = torch.tensor(normalize_array(song.iloc[0].values.reshape(-1,1)), dtype=torch.float32).unsqueeze(0).reshape(1,song.shape[1],1)\n",
    "#     harmonies = torch.tensor(normalize_array(song.iloc[1:].values.T), dtype=torch.float32).unsqueeze(0)\n",
    "    \n",
    "#     train_model(model, melody, harmonies, optimizer, criterion, epoch)"
   ]
  },
  {
   "cell_type": "markdown",
   "id": "7234bbe1-0257-4c91-a95f-263342853d92",
   "metadata": {},
   "source": [
    "# Hyperparameter Tuning"
   ]
  },
  {
   "cell_type": "code",
   "execution_count": null,
   "id": "46e1d90b-1d91-4fcc-a156-6edcb721d723",
   "metadata": {},
   "outputs": [],
   "source": [
    "learning = [0.01, .001]\n",
    "n_layers= [1,2,3]\n",
    "hidden_dim = [20, 40, 50]\n",
    "epochs= [5000, 10000]\n",
    "best_loss = float('inf')\n",
    "best_params = {}\n",
    "\n",
    "\n",
    "for LR in learning:\n",
    "    for n_layer in n_layers:\n",
    "        for epoch in epochs:\n",
    "            for dims in hidden_dim:\n",
    "                print(f\"Training with LR={LR} and n_layers={n_layer} and epochs={epoch} and hidden_dims={dims}\")\n",
    "                model = Model(input_size=1, output_size=harmonies.shape[2], n_layers=n_layer, hidden_dim=dims)\n",
    "                optimizer = torch.optim.Adam(model.parameters(), lr=LR)\n",
    "                train_model(model, melody, harmonies, optimizer, criterion, epoch)\n",
    "                with torch.no_grad():\n",
    "                    output = model(melody)\n",
    "                    loss = criterion(output, harmonies)\n",
    "                    print(f\"Final Loss: {loss.item()}\")        \n",
    "                # Keep track of the best model (with lowest loss)\n",
    "                if loss.item() < best_loss:\n",
    "                    best_loss = loss.item()\n",
    "                    best_params = {'learning': LR, 'n_layers': n_layer, 'epochs': epoch, 'hidden_dim': dims}\n",
    "print(\"BEST: \", best_params)"
   ]
  },
  {
   "cell_type": "code",
   "execution_count": null,
   "id": "b889de80",
   "metadata": {},
   "outputs": [],
   "source": [
    "# tiny = pd.DataFrame([[67,62,59,43], [68,62,59,43]]).transpose()\n",
    "# melody = torch.tensor(tiny.iloc[0], dtype=torch.float32).unsqueeze(0).reshape(1,2,1)\n",
    "# harmonies = torch.transpose(torch.tensor(tiny.iloc[1:].values, dtype=torch.float32),0,1).unsqueeze(0)\n",
    "# model = Model(1, harmonies.shape[2])\n",
    "# optimizer = torch.optim.Adam(model.parameters(), lr=0.01)\n",
    "# criterion = torch.nn.MSELoss()\n",
    "# train_model(model, melody, harmonies, optimizer, criterion, 10000)"
   ]
  },
  {
   "cell_type": "code",
   "execution_count": null,
   "id": "9f9e5e39",
   "metadata": {},
   "outputs": [],
   "source": [
    "def inverse_array(array):\n",
    "    X_scaled = array * (88 - 1) + 1\n",
    "    return X_scaled\n",
    "\n",
    "def midi_to_note(part):\n",
    "    result = stream.Part()\n",
    "    count = 1\n",
    "    prev = part[0]\n",
    "    for i in range(1, len(part)):\n",
    "        pitch = part[i]\n",
    "        curr = round(pitch)\n",
    "        if curr == prev:\n",
    "            count += 1\n",
    "        else:\n",
    "            this_note = note.Note(prev, quarterLength=count/4)\n",
    "            result.append(this_note)\n",
    "            count = 1\n",
    "        prev = curr\n",
    "    this_note = note.Note(prev, quarterLength=count/4)\n",
    "    result.append(this_note)\n",
    "    return result\n",
    "\n",
    "def output_to_sheet_music(melody, result):\n",
    "    result_numpy = result.detach().numpy()\n",
    "    inversed = inverse_array(np.squeeze(result_numpy)).T\n",
    "    \n",
    "    score = stream.Score()\n",
    "    melody_part = midi_to_note(melody)\n",
    "    \n",
    "    alto_notes = inversed[0]\n",
    "    tenor_notes = inversed[1]\n",
    "    bass_notes = inversed[2]  \n",
    "    \n",
    "    alto_part = midi_to_note(alto_notes)\n",
    "    tenor_part = midi_to_note(tenor_notes)\n",
    "    bass_part = midi_to_note(bass_notes)\n",
    "\n",
    "    score.append(melody_part)\n",
    "    score.append(alto_part)\n",
    "    score.append(tenor_part)\n",
    "    score.append(bass_part)\n",
    "    score.show('midi')\n",
    "    score.write('musicxml', 'output.xml')"
   ]
  },
  {
   "cell_type": "code",
   "execution_count": null,
   "id": "64ca5e31",
   "metadata": {},
   "outputs": [],
   "source": [
    "test_song = key_transposition(test[0])\n",
    "melody = test_song.iloc[0]\n",
    "# print(\"melody is: \", torch.tensor(normalize_array(song.iloc[0].values.reshape(-1,1)), dtype=torch.float32).unsqueeze(0).reshape(1,song.shape[1],1))\n",
    "# harmonies = torch.tensor(normalize_array(test[0].iloc[1:].values.T), dtype=torch.float32).unsqueeze(0)\n",
    "result = model(torch.tensor(normalize_array(test_song.iloc[0].values.reshape(-1,1)), dtype=torch.float32).unsqueeze(0).reshape(1,test[0].shape[1],1))\n",
    "output_to_sheet_music(melody, result)"
   ]
  },
  {
   "cell_type": "code",
   "execution_count": null,
   "id": "c75011af",
   "metadata": {},
   "outputs": [],
   "source": [
    "# Finetune (hyperparameters, move around test data (refer to notes), etc)"
   ]
  },
  {
   "cell_type": "code",
   "execution_count": null,
   "id": "7a19fdf0",
   "metadata": {},
   "outputs": [],
   "source": [
    "# Test with new data + evaluate"
   ]
  },
  {
   "cell_type": "code",
   "execution_count": null,
   "id": "fc27f4af",
   "metadata": {},
   "outputs": [],
   "source": [
    "# Make any other changes"
   ]
  },
  {
   "cell_type": "code",
   "execution_count": null,
   "id": "bc96a58c",
   "metadata": {},
   "outputs": [],
   "source": [
    "# Sheet music + audio (musicAI)"
   ]
  },
  {
   "cell_type": "code",
   "execution_count": null,
   "id": "dad609d2",
   "metadata": {},
   "outputs": [],
   "source": [
    "# Create new models if time permits (follow steps 3 - 7)"
   ]
  },
  {
   "cell_type": "code",
   "execution_count": null,
   "id": "eb5a3b48",
   "metadata": {},
   "outputs": [],
   "source": [
    "# Compare models"
   ]
  },
  {
   "cell_type": "code",
   "execution_count": null,
   "id": "095d0ec9",
   "metadata": {},
   "outputs": [],
   "source": [
    "# Front end ** if time permits\n",
    "# - Interactive sheet music\n",
    "# - musescore front end??"
   ]
  },
  {
   "cell_type": "code",
   "execution_count": null,
   "id": "121de9a4",
   "metadata": {},
   "outputs": [],
   "source": [
    "# real one and generated compare\n",
    "# train on all songs + test on a different song\n",
    "# measure the test loss not just the training loss\n"
   ]
  },
  {
   "cell_type": "code",
   "execution_count": null,
   "id": "a6fb6748",
   "metadata": {},
   "outputs": [],
   "source": []
  }
 ],
 "metadata": {
  "kernelspec": {
   "display_name": "Python 3 (ipykernel)",
   "language": "python",
   "name": "python3"
  },
  "language_info": {
   "codemirror_mode": {
    "name": "ipython",
    "version": 3
   },
   "file_extension": ".py",
   "mimetype": "text/x-python",
   "name": "python",
   "nbconvert_exporter": "python",
   "pygments_lexer": "ipython3",
   "version": "3.11.4"
  }
 },
 "nbformat": 4,
 "nbformat_minor": 5
}
