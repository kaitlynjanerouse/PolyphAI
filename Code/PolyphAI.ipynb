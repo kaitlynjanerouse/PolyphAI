{
 "cells": [
  {
   "cell_type": "code",
   "execution_count": 1,
   "id": "7d361ffe",
   "metadata": {},
   "outputs": [],
   "source": [
    "# Include necessary imports\n",
    "import os\n",
    "import torch \n",
    "import pandas as pd\n",
    "from torch.utils.data import DataLoader, TensorDataset\n",
    "from music21 import *\n",
    "import numpy as np\n",
    "from sklearn.model_selection import GridSearchCV\n",
    "from sklearn.preprocessing import MinMaxScaler\n",
    "from torch.nn.utils.rnn import pad_sequence"
   ]
  },
  {
   "cell_type": "code",
   "execution_count": 82,
   "id": "3c67e7cc",
   "metadata": {},
   "outputs": [],
   "source": [
    "# Preprocess the data\n",
    "\n",
    "# Transpose all valies to the same key\n",
    "def key_transposition(df):\n",
    "    transpose_val = 48 - df.iloc[3][0]\n",
    "    df += transpose_val\n",
    "    return df\n",
    "\n",
    "# Min-Max normalization technique\n",
    "def normalize_df(df):\n",
    "    X_std = (df - 1) / (88 - 1)\n",
    "    return X_std\n",
    "\n",
    "folder_path = 'Data/'\n",
    "test = []\n",
    "train = []\n",
    "validation = []\n",
    "for dirname in os.listdir(folder_path):\n",
    "    if dirname != '.DS_Store':\n",
    "        for filename in os.listdir(folder_path + dirname):\n",
    "            if filename != '.ipynb_checkpoints':\n",
    "                df = pd.read_csv(folder_path + dirname + '/' + filename)\n",
    "                transposed_df = key_transposition(df.transpose())\n",
    "                normalized_df = normalize_df(transposed_df)\n",
    "                if dirname == 'test':\n",
    "                    test.append(normalized_df)\n",
    "                if dirname == 'train':\n",
    "                    train.append(normalized_df)\n",
    "                if dirname == 'valid':\n",
    "                    validation.append(normalized_df)"
   ]
  },
  {
   "cell_type": "markdown",
   "id": "d8606521",
   "metadata": {},
   "source": [
    "# Model"
   ]
  },
  {
   "cell_type": "code",
   "execution_count": 98,
   "id": "551e0b42",
   "metadata": {},
   "outputs": [],
   "source": [
    "class Model(torch.nn.Module):\n",
    "    def __init__(self, input_size, output_size, hidden_dim=40, n_layers=2, dropout_rate=.5):\n",
    "        super(Model, self).__init__()\n",
    "        self.hidden_dim = hidden_dim\n",
    "        self.n_layers = n_layers\n",
    "        self.lstm = torch.nn.LSTM(input_size, hidden_dim, n_layers, batch_first=True, dropout=dropout_rate)\n",
    "        self.fc = torch.nn.Linear(hidden_dim, output_size)\n",
    "        self.dropout = torch.nn.Dropout(dropout_rate)\n",
    "        self.sigmoid = torch.nn.Sigmoid()\n",
    "        \n",
    "    def forward(self, x, hidden=None):\n",
    "        lstm_output, (h,c) = self.lstm(x, hidden)\n",
    "        lstm_output = self.dropout(lstm_output)\n",
    "        model_output = self.fc(lstm_output)\n",
    "        model_output = self.sigmoid(model_output)\n",
    "        return model_output"
   ]
  },
  {
   "cell_type": "markdown",
   "id": "2d09e503",
   "metadata": {},
   "source": [
    "# Train"
   ]
  },
  {
   "cell_type": "code",
   "execution_count": 105,
   "id": "511051f8",
   "metadata": {},
   "outputs": [],
   "source": [
    "# def train_model(model, optimizer, criterion, num_epochs):\n",
    "#     for epoch in range(num_epochs):\n",
    "#         model.train()\n",
    "#         for song in train:\n",
    "#             song = key_transposition(song)\n",
    "#             melody = torch.tensor(normalize_array(song.iloc[0].values.reshape(-1,1)), dtype=torch.float32).unsqueeze(0).reshape(1,song.shape[1],1)\n",
    "#             harmonies = torch.tensor(normalize_array(song.iloc[1:].values.T), dtype=torch.float32).unsqueeze(0)\n",
    "       \n",
    "#             optimizer.zero_grad()\n",
    "#             output = model(train_melody)\n",
    "#             loss = criterion(output, train_harmonies)\n",
    "#             loss.backward()\n",
    "#             optimizer.step()\n",
    "#             model.eval()\n",
    "        \n",
    "#         with torch.no_grad(): \n",
    "#             val_output = model(val_melody) \n",
    "#             val_loss = criterion(val_output, val_harmonies)\n",
    "            \n",
    "#         if (epoch + 1) % 100 == 0:\n",
    "#             print(\"Epoch: \", epoch, \"Loss: \", loss, \"Validation Loss: \", val_loss)     \n",
    "            \n",
    "def train_model(model, optimizer, criterion, num_epochs):\n",
    "    for song_index, song in enumerate(train[:10]):\n",
    "        print(f\"Training on song {song_index + 1}\")\n",
    "        \n",
    "        melody = torch.tensor(song.iloc[0].values.reshape(-1, 1), dtype=torch.float32).unsqueeze(0).reshape(1, song.shape[1], 1)\n",
    "        harmonies = torch.tensor((song.iloc[1:].values.T), dtype=torch.float32).unsqueeze(0)\n",
    "        \n",
    "        for epoch in range(num_epochs):\n",
    "            model.train()\n",
    "            optimizer.zero_grad()\n",
    "            output = model(melody)\n",
    "#             print(\"output: \", output)\n",
    "#             print(\"expected: \", harmonies)\n",
    "            loss = criterion(output, harmonies)\n",
    "            loss.backward()\n",
    "            optimizer.step()\n",
    "\n",
    "            if (epoch + 1) % 100 == 0:\n",
    "                print(f\"Song {song_index + 1}, Epoch {epoch + 1}/{num_epochs}, Loss: {loss.item()}\")\n",
    "                if torch.isnan(loss):\n",
    "                    print(\"harmonies: \", harmonies)\n",
    "                    print(\"melody:\" , melody)\n",
    "                    print(\"output: \", output)\n",
    "                    \n",
    "\n",
    "        model.eval()\n",
    "        total_val_loss = 0\n",
    "        \n",
    "        # validation songs\n",
    "        with torch.no_grad():\n",
    "            for val_song in validation:\n",
    "                val_melody = torch.tensor(val_song.iloc[0].values.reshape(-1, 1), dtype=torch.float32).unsqueeze(0).reshape(1, val_song.shape[1], 1)\n",
    "                val_harmonies = torch.tensor(val_song.iloc[1:].values.T, dtype=torch.float32).unsqueeze(0)\n",
    "                \n",
    "                val_output = model(val_melody)\n",
    "                val_loss = criterion(val_output, val_harmonies)\n",
    "                total_val_loss += val_loss.item()\n",
    "\n",
    "        average_val_loss = total_val_loss / len(validation)\n",
    "        print(f\"Validation Loss after song {song_index + 1}: {average_val_loss}\")"
   ]
  },
  {
   "cell_type": "code",
   "execution_count": null,
   "id": "6c6e6252",
   "metadata": {},
   "outputs": [
    {
     "name": "stdout",
     "output_type": "stream",
     "text": [
      "Training on song 1\n",
      "Song 1, Epoch 100/5000, Loss: 0.0015735023189336061\n",
      "Song 1, Epoch 200/5000, Loss: 0.001452900585718453\n",
      "Song 1, Epoch 300/5000, Loss: 0.0014224123442545533\n",
      "Song 1, Epoch 400/5000, Loss: 0.001412158482708037\n",
      "Song 1, Epoch 500/5000, Loss: 0.001395121100358665\n",
      "Song 1, Epoch 600/5000, Loss: 0.001385565148666501\n",
      "Song 1, Epoch 700/5000, Loss: 0.001375157036818564\n",
      "Song 1, Epoch 800/5000, Loss: 0.0013560152146965265\n",
      "Song 1, Epoch 900/5000, Loss: 0.0013504050439223647\n",
      "Song 1, Epoch 1000/5000, Loss: 0.0013636690564453602\n",
      "Song 1, Epoch 1100/5000, Loss: 0.0013580996310338378\n",
      "Song 1, Epoch 1200/5000, Loss: 0.0013893686700612307\n",
      "Song 1, Epoch 1300/5000, Loss: 0.0013818583684042096\n",
      "Song 1, Epoch 1400/5000, Loss: 0.00134966557379812\n",
      "Song 1, Epoch 1500/5000, Loss: 0.001346426084637642\n",
      "Song 1, Epoch 1600/5000, Loss: 0.0011827250709757209\n"
     ]
    }
   ],
   "source": [
    "criterion = torch.nn.MSELoss()\n",
    "num_epochs = 5000\n",
    "model = Model(1, 3)\n",
    "optimizer = torch.optim.Adam(model.parameters(), lr=0.01)\n",
    "\n",
    "# batch_size = 16\n",
    "\n",
    "# train_loader = DataLoader(torch.tensor(train), batch_size=batch_size)\n",
    "# validation_loader = DataLoader(torch.tensor(validation), batch_size=batch_size)\n",
    "\n",
    "train_model(model, optimizer, criterion, num_epochs)\n",
    "\n",
    "# train_dataset = TensorDataset(torch.tensor(train))\n",
    "# validation_dataset = TensorDataset(torch.tensor(validation))"
   ]
  },
  {
   "cell_type": "markdown",
   "id": "7234bbe1-0257-4c91-a95f-263342853d92",
   "metadata": {},
   "source": [
    "# Hyperparameter Tuning"
   ]
  },
  {
   "cell_type": "code",
   "execution_count": null,
   "id": "46e1d90b-1d91-4fcc-a156-6edcb721d723",
   "metadata": {},
   "outputs": [],
   "source": [
    "learning = [0.01, .001]\n",
    "n_layers= [1,2,3]\n",
    "hidden_dim = [20, 40, 50]\n",
    "epochs= [5000, 10000]\n",
    "best_loss = float('inf')\n",
    "best_params = {}\n",
    "\n",
    "for LR in learning:\n",
    "    for n_layer in n_layers:\n",
    "        for epoch in epochs:\n",
    "            for dims in hidden_dim:\n",
    "                print(f\"Training with LR={LR} and n_layers={n_layer} and epochs={epoch} and hidden_dims={dims}\")\n",
    "                model = Model(input_size=1, output_size=harmonies.shape[2], n_layers=n_layer, hidden_dim=dims)\n",
    "                optimizer = torch.optim.Adam(model.parameters(), lr=LR)\n",
    "                train_model(model, melody, harmonies, optimizer, criterion, epoch)\n",
    "                with torch.no_grad():\n",
    "                    output = model(melody)\n",
    "                    loss = criterion(output, harmonies)\n",
    "                    print(f\"Final Loss: {loss.item()}\")        \n",
    "                # Keep track of the best model (with lowest loss)\n",
    "                if loss.item() < best_loss:\n",
    "                    best_loss = loss.item()\n",
    "                    best_params = {'learning': LR, 'n_layers': n_layer, 'epochs': epoch, 'hidden_dim': dims}\n",
    "print(\"BEST: \", best_params)"
   ]
  },
  {
   "cell_type": "code",
   "execution_count": null,
   "id": "b889de80",
   "metadata": {},
   "outputs": [],
   "source": [
    "# tiny = pd.DataFrame([[67,62,59,43], [68,62,59,43]]).transpose()\n",
    "# melody = torch.tensor(tiny.iloc[0], dtype=torch.float32).unsqueeze(0).reshape(1,2,1)\n",
    "# harmonies = torch.transpose(torch.tensor(tiny.iloc[1:].values, dtype=torch.float32),0,1).unsqueeze(0)\n",
    "# model = Model(1, harmonies.shape[2])\n",
    "# optimizer = torch.optim.Adam(model.parameters(), lr=0.01)\n",
    "# criterion = torch.nn.MSELoss()\n",
    "# train_model(model, melody, harmonies, optimizer, criterion, 10000)"
   ]
  },
  {
   "cell_type": "code",
   "execution_count": 78,
   "id": "9f9e5e39",
   "metadata": {},
   "outputs": [],
   "source": [
    "def inverse_df(df):\n",
    "    X_scaled = df * (88 - 1) + 1\n",
    "    return X_scaled\n",
    "\n",
    "def midi_to_note(part):\n",
    "    result = stream.Part()\n",
    "    count = 1\n",
    "    prev = round(part[0])\n",
    "    for i in range(1, len(part)):\n",
    "        pitch = part[i]\n",
    "        curr = round(pitch)\n",
    "        if curr == prev:\n",
    "            count += 1\n",
    "        else:\n",
    "            this_note = note.Note(prev, quarterLength=count/4)\n",
    "            result.append(this_note)\n",
    "            count = 1\n",
    "        prev = curr\n",
    "    this_note = note.Note(prev, quarterLength=count/4)\n",
    "    result.append(this_note)\n",
    "    return result\n",
    "\n",
    "def output_to_sheet_music(melody, result):\n",
    "    result_numpy = result.detach().numpy()\n",
    "    melody = inverse_df(melody)\n",
    "    inversed = inverse_df(np.squeeze(result_numpy)).T\n",
    "    \n",
    "    score = stream.Score()\n",
    "    melody_part = midi_to_note(melody)\n",
    "    \n",
    "    alto_notes = inversed[0]\n",
    "    tenor_notes = inversed[1]\n",
    "    bass_notes = inversed[2]  \n",
    "    \n",
    "    alto_part = midi_to_note(alto_notes)\n",
    "    tenor_part = midi_to_note(tenor_notes)\n",
    "    bass_part = midi_to_note(bass_notes)\n",
    "\n",
    "    score.append(melody_part)\n",
    "    score.append(alto_part)\n",
    "    score.append(tenor_part)\n",
    "    score.append(bass_part)\n",
    "    score.show('midi')\n",
    "    score.write('musicxml', 'output.xml')"
   ]
  },
  {
   "cell_type": "code",
   "execution_count": 80,
   "id": "64ca5e31",
   "metadata": {},
   "outputs": [
    {
     "data": {
      "text/html": [
       "\n",
       "        <div id=\"midiPlayerDiv92416\"></div>\n",
       "        <link rel=\"stylesheet\" href=\"https://cuthbertLab.github.io/music21j/css/m21.css\">\n",
       "        \n",
       "        <script\n",
       "        src=\"https://cdnjs.cloudflare.com/ajax/libs/require.js/2.3.6/require.min.js\"\n",
       "        ></script>\n",
       "    \n",
       "        <script>\n",
       "        function midiPlayerDiv92416_play() {\n",
       "            const rq = require.config({\n",
       "                paths: {\n",
       "                    'music21': 'https://cuthbertLab.github.io/music21j/releases/music21.debug',\n",
       "                }\n",
       "            });\n",
       "            rq(['music21'], function(music21) {\n",
       "                mp = new music21.miditools.MidiPlayer();\n",
       "                mp.addPlayer(\"#midiPlayerDiv92416\");\n",
       "                mp.base64Load(\"data:audio/midi;base64,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\");\n",
       "            });\n",
       "        }\n",
       "        if (typeof require === 'undefined') {\n",
       "            setTimeout(midiPlayerDiv92416_play, 2000);\n",
       "        } else {\n",
       "            midiPlayerDiv92416_play();\n",
       "        }\n",
       "        </script>"
      ],
      "text/plain": [
       "<IPython.core.display.HTML object>"
      ]
     },
     "metadata": {},
     "output_type": "display_data"
    }
   ],
   "source": [
    "# print(test)\n",
    "test_song = test[0]\n",
    "melody = test_song.iloc[0]\n",
    "# print(\"melody is: \", torch.tensor(normalize_array(song.iloc[0].values.reshape(-1,1)), dtype=torch.float32).unsqueeze(0).reshape(1,song.shape[1],1))\n",
    "harmonies = torch.tensor(test_song.iloc[1:].values.T, dtype=torch.float32).unsqueeze(0)\n",
    "result = model(torch.tensor(test_song.iloc[0].values.reshape(-1,1), dtype=torch.float32).unsqueeze(0).reshape(1,test_song.shape[1],1))\n",
    "output_to_sheet_music(melody, result)"
   ]
  },
  {
   "cell_type": "code",
   "execution_count": null,
   "id": "c75011af",
   "metadata": {},
   "outputs": [],
   "source": [
    "# Finetune (hyperparameters, move around test data (refer to notes), etc)"
   ]
  },
  {
   "cell_type": "code",
   "execution_count": null,
   "id": "7a19fdf0",
   "metadata": {},
   "outputs": [],
   "source": [
    "# Test with new data + evaluate"
   ]
  },
  {
   "cell_type": "code",
   "execution_count": null,
   "id": "fc27f4af",
   "metadata": {},
   "outputs": [],
   "source": [
    "# Make any other changes"
   ]
  },
  {
   "cell_type": "code",
   "execution_count": null,
   "id": "bc96a58c",
   "metadata": {},
   "outputs": [],
   "source": [
    "# Sheet music + audio (musicAI)"
   ]
  },
  {
   "cell_type": "code",
   "execution_count": null,
   "id": "dad609d2",
   "metadata": {},
   "outputs": [],
   "source": [
    "# Create new models if time permits (follow steps 3 - 7)"
   ]
  },
  {
   "cell_type": "code",
   "execution_count": null,
   "id": "eb5a3b48",
   "metadata": {},
   "outputs": [],
   "source": [
    "# Compare models"
   ]
  },
  {
   "cell_type": "code",
   "execution_count": null,
   "id": "095d0ec9",
   "metadata": {},
   "outputs": [],
   "source": [
    "# Front end ** if time permits\n",
    "# - Interactive sheet music\n",
    "# - musescore front end??"
   ]
  },
  {
   "cell_type": "code",
   "execution_count": null,
   "id": "121de9a4",
   "metadata": {},
   "outputs": [],
   "source": [
    "# real one and generated compare\n",
    "# train on all songs + test on a different song\n",
    "# measure the test loss not just the training loss\n"
   ]
  },
  {
   "cell_type": "code",
   "execution_count": 13,
   "id": "a6fb6748",
   "metadata": {},
   "outputs": [
    {
     "name": "stdout",
     "output_type": "stream",
     "text": [
      "[1 2 3 4 5 6]\n"
     ]
    }
   ],
   "source": [
    "import numpy as np\n",
    "\n",
    "array1 = np.array([1, 2, 3])\n",
    "array2 = np.array([4, 5, 6])\n",
    "\n",
    "result = np.concatenate((array1, array2))\n",
    "\n",
    "print(result)"
   ]
  },
  {
   "cell_type": "code",
   "execution_count": null,
   "id": "f87ba97e",
   "metadata": {},
   "outputs": [],
   "source": []
  }
 ],
 "metadata": {
  "kernelspec": {
   "display_name": "Python 3 (ipykernel)",
   "language": "python",
   "name": "python3"
  },
  "language_info": {
   "codemirror_mode": {
    "name": "ipython",
    "version": 3
   },
   "file_extension": ".py",
   "mimetype": "text/x-python",
   "name": "python",
   "nbconvert_exporter": "python",
   "pygments_lexer": "ipython3",
   "version": "3.11.4"
  }
 },
 "nbformat": 4,
 "nbformat_minor": 5
}
